{
 "cells": [
  {
   "cell_type": "markdown",
   "id": "cfd34478",
   "metadata": {},
   "source": [
    "# Data Validation"
   ]
  },
  {
   "cell_type": "markdown",
   "id": "de48dbe0",
   "metadata": {},
   "source": [
    "## 1. Data Validation (Missing Values):\n",
    "\n",
    "This code checks for missing values in critical columns essential for reporting.\n",
    "\n",
    "It raises an error if missing values are found, alerting you to potential data quality issues."
   ]
  },
  {
   "cell_type": "code",
   "execution_count": 24,
   "id": "f6019a67",
   "metadata": {},
   "outputs": [
    {
     "name": "stdout",
     "output_type": "stream",
     "text": [
      "Data validation passed (no missing values in critical columns)\n"
     ]
    }
   ],
   "source": [
    "import pandas as pd\n",
    "\n",
    "# Read the CSV data\n",
    "data = pd.read_csv(\"Basic_data.csv\")\n",
    "\n",
    "# Check for missing values\n",
    "missing_values = data.isnull().sum()\n",
    "\n",
    "# Raise an error if critical columns have missing values\n",
    "critical_columns = [\"Name\", \"Age\", \"Balance\", \"AccStatus\"]\n",
    "if missing_values[critical_columns].any():\n",
    "    raise ValueError(\"Missing values found in critical columns!\")\n",
    "\n",
    "print(\"Data validation passed (no missing values in critical columns)\")\n"
   ]
  },
  {
   "cell_type": "markdown",
   "id": "b92dbf38",
   "metadata": {},
   "source": [
    "## 2. Data Type Validation\n",
    "\n",
    "This code defines expected data types for each column.\n",
    "\n",
    "It attempts to convert the data types and catches errors during conversion.\n",
    "\n",
    "You can handle errors by raising exceptions, fixing data, or logging them for further investigation."
   ]
  },
  {
   "cell_type": "code",
   "execution_count": 25,
   "id": "c25291b4",
   "metadata": {},
   "outputs": [
    {
     "name": "stdout",
     "output_type": "stream",
     "text": [
      "Data type validation passed (expected data types found)\n"
     ]
    }
   ],
   "source": [
    "# Validate data types for specific columns\n",
    "data_types = {\n",
    "    \"AccID\": str,\n",
    "    \"Name\": str,\n",
    "    \"Gender\": str,\n",
    "    \"Age\": int,\n",
    "    \"AccOpen\": pd.to_datetime,  # Ensure datetime format\n",
    "    \"Balance\": float,\n",
    "    \"AccStatus\": str,\n",
    "}\n",
    "\n",
    "# Try converting data types and catch potential errors\n",
    "try:\n",
    "    for col, dtype in data_types.items():\n",
    "        if dtype != pd.to_datetime and not pd.api.types.is_string_dtype(col):\n",
    "            data[col] = data[col].astype(dtype)  # Convert data types\n",
    "except (ValueError, TypeError) as e:\n",
    "    print(f\"Data type validation error: {e}\")\n",
    "    # Handle the error (e.g., raise an exception or fix data)\n",
    "\n",
    "print(\"Data type validation passed (expected data types found)\")\n"
   ]
  },
  {
   "cell_type": "markdown",
   "id": "1a3809f4",
   "metadata": {},
   "source": [
    "## 3. Data Format Validation\n",
    "\n",
    "This code validates the format of dates in the AccOpen column (adjust the pattern as needed).\n",
    "\n",
    "It checks if all dates match the expected format and raises a warning if inconsistencies are found."
   ]
  },
  {
   "cell_type": "code",
   "execution_count": 26,
   "id": "1155b480",
   "metadata": {},
   "outputs": [
    {
     "name": "stdout",
     "output_type": "stream",
     "text": [
      "Warning: Some dates might not be in the expected format.\n",
      "Data format validation passed (date format mostly consistent)\n"
     ]
    }
   ],
   "source": [
    "# Validate date format (optional, adjust pattern as needed)\n",
    "valid_date_format = \"%d-%b-%y\"  # Adjust for your date format\n",
    "\n",
    "# Check if 'AccOpen' format matches the expected pattern\n",
    "if not all(pd.to_datetime(data[\"AccOpen\"]).dt.strftime(valid_date_format) == data[\"AccOpen\"]):\n",
    "    print(\"Warning: Some dates might not be in the expected format.\")\n",
    "\n",
    "print(\"Data format validation passed (date format mostly consistent)\")\n"
   ]
  },
  {
   "cell_type": "markdown",
   "id": "9e2d8ac6",
   "metadata": {},
   "source": [
    "## 4. Data Value Validation (Range or Specific Values)\n",
    "\n",
    "This code checks if the minimum age in the data is above a certain threshold.\n",
    "\n",
    "It also validates if the account status values are within a defined set of valid options.\n",
    "\n",
    "You can customize these validations based on your specific data and reporting requirements."
   ]
  },
  {
   "cell_type": "code",
   "execution_count": 27,
   "id": "ff4e7f6a",
   "metadata": {},
   "outputs": [
    {
     "name": "stdout",
     "output_type": "stream",
     "text": [
      "Warning: Age data might contain values below 18.\n",
      "Warning: Account status might contain invalid values.\n",
      "Data value validation passed (values mostly within expected ranges/formats)\n"
     ]
    }
   ],
   "source": [
    "# Minimum age validation (optional, adjust as needed)\n",
    "min_age = 18\n",
    "if data[\"Age\"].min() < min_age:\n",
    "    print(f\"Warning: Age data might contain values below {min_age}.\")\n",
    "\n",
    "# Validate specific account status values (optional)\n",
    "valid_statuses = [\"Active\", \"Inactive\"]\n",
    "if not set(data[\"AccStatus\"]) <= set(valid_statuses):\n",
    "    print(f\"Warning: Account status might contain invalid values.\")\n",
    "\n",
    "print(\"Data value validation passed (values mostly within expected ranges/formats)\")\n"
   ]
  },
  {
   "cell_type": "markdown",
   "id": "13356c14",
   "metadata": {},
   "source": [
    "## Remember\n",
    "\n",
    "Adjust the validation criteria according to your data characteristics and reporting needs.\n",
    "\n",
    "Consider implementing logging or raising specific exceptions for different validation errors to improve data quality control.\n",
    "\n",
    "By incorporating these validations, you can enhance the reliability and accuracy of your data, leading to more meaningful reports."
   ]
  }
 ],
 "metadata": {
  "kernelspec": {
   "display_name": "Python 3",
   "language": "python",
   "name": "python3"
  },
  "language_info": {
   "codemirror_mode": {
    "name": "ipython",
    "version": 3
   },
   "file_extension": ".py",
   "mimetype": "text/x-python",
   "name": "python",
   "nbconvert_exporter": "python",
   "pygments_lexer": "ipython3",
   "version": "3.8.8"
  }
 },
 "nbformat": 4,
 "nbformat_minor": 5
}
