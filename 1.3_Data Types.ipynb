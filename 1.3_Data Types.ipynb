{
 "cells": [
  {
   "cell_type": "markdown",
   "id": "e1db1be1",
   "metadata": {},
   "source": [
    "# Numeric Data Types\n"
   ]
  },
  {
   "cell_type": "markdown",
   "id": "feb59ccd",
   "metadata": {},
   "source": [
    "## 1. Integers (int)\n",
    "\n",
    "Represent whole numbers, positive, negative, or zero.\n",
    "\n",
    "Integers have unlimited precision, meaning they can store very large or very small whole numbers as long as your computer's memory allows."
   ]
  },
  {
   "cell_type": "code",
   "execution_count": 3,
   "id": "0e295a41",
   "metadata": {},
   "outputs": [
    {
     "name": "stdout",
     "output_type": "stream",
     "text": [
      "30\n",
      "1234567890\n"
     ]
    }
   ],
   "source": [
    "age = 30\n",
    "account_number = 1234567890  \n",
    "print(age)\n",
    "print(account_number)"
   ]
  },
  {
   "cell_type": "markdown",
   "id": "bdea7918",
   "metadata": {},
   "source": [
    "## 2. Floats (float)\n",
    "\n",
    "Represent numbers with decimal points.\n",
    "\n",
    "Have limited precision, meaning they can only store a certain number of decimal places accurately (usually around 15-17 on most machines)."
   ]
  },
  {
   "cell_type": "code",
   "execution_count": 4,
   "id": "3be4fa09",
   "metadata": {},
   "outputs": [
    {
     "name": "stdout",
     "output_type": "stream",
     "text": [
      "5000.75\n",
      "3.14159\n"
     ]
    }
   ],
   "source": [
    "balance = 5000.75\n",
    "pi = 3.14159\n",
    "print(balance)\n",
    "print(pi)"
   ]
  },
  {
   "cell_type": "markdown",
   "id": "8ce626f7",
   "metadata": {},
   "source": [
    "## 3. Booleans (bool)\n",
    "\n",
    "Represent logical values, True or False.\n",
    "\n",
    "Used in conditional statements and logical operations."
   ]
  },
  {
   "cell_type": "code",
   "execution_count": 6,
   "id": "773dbd71",
   "metadata": {},
   "outputs": [
    {
     "name": "stdout",
     "output_type": "stream",
     "text": [
      "True\n",
      "False\n"
     ]
    }
   ],
   "source": [
    "is_active = True\n",
    "is_valid = False\n",
    "print(is_active)\n",
    "print(is_valid)"
   ]
  },
  {
   "cell_type": "markdown",
   "id": "ff389352",
   "metadata": {},
   "source": [
    "## Numeric Data Type Differences"
   ]
  },
  {
   "attachments": {
    "image.png": {
     "image/png": "[encoded data removed]"
    }
   },
   "cell_type": "markdown",
   "id": "14617c9e",
   "metadata": {},
   "source": [
    "![image.png](attachment:image.png)"
   ]
  },
  {
   "cell_type": "markdown",
   "id": "2a80b1f7",
   "metadata": {},
   "source": [
    "# Alpha Numeric Data Types\n"
   ]
  },
  {
   "cell_type": "markdown",
   "id": "a1b2d79a",
   "metadata": {},
   "source": [
    "## 1. String (str)\n",
    "\n",
    "The most fundamental string type in Python.\n",
    "Enclosed in single (') or double quotes (\").\n",
    "Used for storing text, numbers, symbols, or any combination of these."
   ]
  },
  {
   "cell_type": "code",
   "execution_count": 8,
   "id": "0b2d77b8",
   "metadata": {},
   "outputs": [
    {
     "name": "stdout",
     "output_type": "stream",
     "text": [
      "Alice\n",
      "Hello, world!\n",
      "Numbers (123) and symbols (#$%) can be included\n"
     ]
    }
   ],
   "source": [
    "name = \"Alice\"  # Single quotes\n",
    "greeting = 'Hello, world!'  # Double quotes\n",
    "message = \"Numbers (123) and symbols (#$%) can be included\"\n",
    "\n",
    "print(name)\n",
    "print(greeting)\n",
    "print(message)"
   ]
  },
  {
   "cell_type": "markdown",
   "id": "0ba3ecc6",
   "metadata": {},
   "source": [
    "## 2. Raw String (r\"\")\n",
    "\n",
    "A special string type where backslashes (\\) are interpreted literally.\n",
    "Useful for including special characters or escape sequences within the string without modification.\n",
    "Common use cases:\n",
    "Windows file paths (r\"C:\\Users\\...\\data.txt\")\n",
    "Regular expressions (where backslashes have special meanings)\n",
    "\n",
    "Consider the below example the  nodejs folder is considers as \\n next line character in ordinary text but when we are using raw string the file name is displayed properly."
   ]
  },
  {
   "cell_type": "code",
   "execution_count": 25,
   "id": "9001e118",
   "metadata": {},
   "outputs": [
    {
     "name": "stdout",
     "output_type": "stream",
     "text": [
      "C:\\Program Files\n",
      "odejs\n"
     ]
    }
   ],
   "source": [
    "windows_path_normal = \"C:\\Program Files\\nodejs\"\n",
    "\n",
    "print(windows_path_normal)\n"
   ]
  },
  {
   "cell_type": "code",
   "execution_count": 26,
   "id": "e8fd4f7c",
   "metadata": {},
   "outputs": [
    {
     "name": "stdout",
     "output_type": "stream",
     "text": [
      "C:\\Program Files\\nodejs\n"
     ]
    }
   ],
   "source": [
    "windows_path_normal = \"C:\\\\Program Files\\\\nodejs\"\n",
    "\n",
    "print(windows_path_normal)\n",
    "#here escape character \\ is used to print the filename properly using the normal string . "
   ]
  },
  {
   "cell_type": "code",
   "execution_count": 27,
   "id": "0f5b1006",
   "metadata": {},
   "outputs": [
    {
     "name": "stdout",
     "output_type": "stream",
     "text": [
      "C:\\Program Files\\nodejs\n"
     ]
    }
   ],
   "source": [
    "windows_path_raw = r\"C:\\Program Files\\nodejs\"\n",
    "\n",
    "print(windows_path_raw)\n"
   ]
  },
  {
   "cell_type": "markdown",
   "id": "5db6e6a4",
   "metadata": {},
   "source": [
    "## 3. Multi-line String (''' or \"\"\")\n",
    "\n",
    "A way to create strings that span multiple lines.\n",
    "Enclosed in triple quotes (either three single quotes ''' or three double quotes \"\"\").\n",
    "Useful for long text passages or code blocks within strings."
   ]
  },
  {
   "cell_type": "code",
   "execution_count": 14,
   "id": "485d3c81",
   "metadata": {},
   "outputs": [
    {
     "name": "stdout",
     "output_type": "stream",
     "text": [
      "This is a multi-line string\n",
      "that can span multiple lines without needing backslashes.\n"
     ]
    }
   ],
   "source": [
    "description = \"\"\"This is a multi-line string\n",
    "that can span multiple lines without needing backslashes.\"\"\"\n",
    "\n",
    "print(description)"
   ]
  },
  {
   "cell_type": "markdown",
   "id": "2f5e11e0",
   "metadata": {},
   "source": [
    "## 4. Unicode String (Default in Python 3)\n",
    "\n",
    "The default string type in Python 3 (and recommended in Python 2).\n",
    "Can represent characters from various languages due to its support for Unicode encoding.\n",
    "Allows you to store multilingual text within a single string variable."
   ]
  },
  {
   "cell_type": "code",
   "execution_count": 15,
   "id": "a7be18ee",
   "metadata": {},
   "outputs": [
    {
     "name": "stdout",
     "output_type": "stream",
     "text": [
      "नमस्ते दुनिया (Namaste Duniya)\n",
      "தமிழ் ஒரு அழகான மொழி. \n"
     ]
    }
   ],
   "source": [
    "hindi_text = \"नमस्ते दुनिया (Namaste Duniya)\"  # Hindi for \"Hello World\"\n",
    "tamil_text = \"தமிழ் ஒரு அழகான மொழி. \"\n",
    "\n",
    "print(hindi_text)\n",
    "print(tamil_text)"
   ]
  },
  {
   "cell_type": "markdown",
   "id": "c5e6aaed",
   "metadata": {},
   "source": [
    "# Date Data Types\n"
   ]
  },
  {
   "cell_type": "markdown",
   "id": "b507e316",
   "metadata": {},
   "source": [
    "## 1. date (from datetime module):\n",
    "\n",
    "Represents a specific calendar date (year, month, day) without time information.\n",
    "Useful for storing dates without hour, minute, or second details."
   ]
  },
  {
   "cell_type": "code",
   "execution_count": 29,
   "id": "4589dbe9",
   "metadata": {},
   "outputs": [
    {
     "name": "stdout",
     "output_type": "stream",
     "text": [
      "2024-03-15\n",
      "2000-01-01\n"
     ]
    }
   ],
   "source": [
    "from datetime import date\n",
    "\n",
    "# Create a date object for today\n",
    "today = date.today()  # Output: 2024-03-18 (assuming today's date)\n",
    "\n",
    "# Create a specific date\n",
    "birthday = date(2000, 1, 1)  # Year, month, day\n",
    "\n",
    "print(today)\n",
    "print(birthday)"
   ]
  },
  {
   "cell_type": "markdown",
   "id": "19646aac",
   "metadata": {},
   "source": [
    "## 2. datetime (from datetime module):\n",
    "\n",
    "Represents a combination of date (year, month, day) and time (hour, minute, second, microsecond) with optional time zone information.\n",
    "More versatile for scenarios when both date and time are needed."
   ]
  },
  {
   "cell_type": "code",
   "execution_count": 31,
   "id": "1c11edc7",
   "metadata": {},
   "outputs": [
    {
     "name": "stdout",
     "output_type": "stream",
     "text": [
      "2024-03-15 15:32:23.629545\n",
      "2024-03-15 10:00:00\n"
     ]
    }
   ],
   "source": [
    "from datetime import datetime\n",
    "\n",
    "# Create a datetime object for now\n",
    "now = datetime.now()  # Includes time (e.g., 2024-03-18 12:34:56.789000)\n",
    "\n",
    "# Create a specific datetime with time\n",
    "meeting_time = datetime(2024, 3, 15, 10, 0, 0)  # Year, month, day, hour, minute, second (10:00 AM)\n",
    "\n",
    "print(now)\n",
    "print(meeting_time)"
   ]
  },
  {
   "cell_type": "markdown",
   "id": "9c635297",
   "metadata": {},
   "source": [
    "## 3. isodate (external library):\n",
    "\n",
    "Not a built-in data type in Python but provided by the isodate library.\n",
    "Offers functionalities specifically designed for working with ISO 8601 date and time formats (e.g., \"2024-03-18T12:34:56\").\n",
    "\n",
    "The isodate library in Python shines in business scenarios where consistent and unambiguous date and time communication is crucial. Its strength lies in its ability to handle ISO 8601 formats, a widely recognized international standard. This ensures smooth data exchange and avoids confusion across different time zones and date notations. Imagine managing deadlines, tracking shipments, or coordinating international meetings – isodate helps guarantee everyone's on the same page when dealing with date and time information."
   ]
  },
  {
   "cell_type": "code",
   "execution_count": 36,
   "id": "5aba4b55",
   "metadata": {},
   "outputs": [
    {
     "name": "stdout",
     "output_type": "stream",
     "text": [
      "Requirement already satisfied: isodate in c:\\users\\sathishkumar\\anaconda3\\lib\\site-packages (0.6.1)\n",
      "Requirement already satisfied: six in c:\\users\\sathishkumar\\anaconda3\\lib\\site-packages (from isodate) (1.15.0)\n",
      "2024-03-18 15:00:00\n"
     ]
    }
   ],
   "source": [
    "!pip install isodate \n",
    "# install the package\n",
    "from isodate import parse_datetime\n",
    "\n",
    "# Parse a string in ISO 8601 format\n",
    "iso_time = parse_datetime(\"2024-03-18T15:00:00\")  # Year, month, day, hour, minute, second (3:00 PM)\n",
    "\n",
    "print(iso_time)\n"
   ]
  },
  {
   "cell_type": "markdown",
   "id": "851e302c",
   "metadata": {},
   "source": [
    "##  4. GMT Date (using datetime and timezone):\n",
    "\n",
    "Python's datetime module doesn't have a specific data type for GMT dates.\n",
    "However, you can combine datetime with the timezone module (Python 3.3+) to represent dates in Greenwich Mean Time (GMT).\n",
    "\n",
    "While Python doesn't have a built-in gmtdate data type, the concept of working with Greenwich Mean Time (GMT) is valuable in business settings. GMT serves as a common reference point for time zones, facilitating communication and coordination across international borders. Here's how it might be used:\n",
    "\n",
    "Financial Transactions: Transactions on stock exchanges or international payments often require a standardized time reference to ensure accurate timestamps and avoid disputes. GMT helps ensure everyone's on the same time page, streamlining the process.\n",
    "\n",
    "Logistics and Supply Chains: Tracking shipments across time zones can be complex. Using GMT as a baseline for scheduling and tracking deliveries enables efficient coordination and avoids delays due to time zone misunderstandings.\n",
    "\n",
    "Global Meetings and Events: When scheduling conference calls or webinars with participants in different time zones, GMT can be used as a neutral reference point to determine a convenient meeting time for everyone involved."
   ]
  },
  {
   "cell_type": "code",
   "execution_count": 39,
   "id": "7599228f",
   "metadata": {},
   "outputs": [
    {
     "name": "stdout",
     "output_type": "stream",
     "text": [
      "2024-03-15 12:43:53.481864+00:00\n"
     ]
    }
   ],
   "source": [
    "from datetime import datetime, timezone\n",
    "\n",
    "# Create a datetime object with GMT timezone\n",
    "gmt_time = datetime.now(timezone.utc)  # Current time in GMT\n",
    "\n",
    "print(gmt_time)\n"
   ]
  },
  {
   "cell_type": "markdown",
   "id": "fcaf1290",
   "metadata": {},
   "source": [
    "# Advanced Data Types\n"
   ]
  },
  {
   "cell_type": "markdown",
   "id": "4da8d39f",
   "metadata": {},
   "source": [
    "## 1. Lists:\n",
    "\n",
    "Ordered collections of items, enclosed in square brackets [].\n",
    "Items can be of different data types (integers, strings, etc.).\n",
    "Useful for storing collections of data that need to be accessed in a specific order."
   ]
  },
  {
   "cell_type": "code",
   "execution_count": 40,
   "id": "b9f6c9b9",
   "metadata": {},
   "outputs": [
    {
     "name": "stdout",
     "output_type": "stream",
     "text": [
      "['apples', 'bread', 'milk']\n",
      "[1, 3.14, 42]\n"
     ]
    }
   ],
   "source": [
    "shopping_list = [\"apples\", \"bread\", \"milk\"]\n",
    "numbers = [1, 3.14, 42]\n",
    "\n",
    "print(shopping_list)\n",
    "print(numbers)"
   ]
  },
  {
   "cell_type": "markdown",
   "id": "248a9d2e",
   "metadata": {},
   "source": [
    "## 2. Tuples:\n",
    "\n",
    "Similar to lists, but they are immutable (cannot be changed after creation).\n",
    "Enclosed in parentheses ().\n",
    "Useful for data that needs to remain fixed, like coordinates or configuration settings."
   ]
  },
  {
   "cell_type": "code",
   "execution_count": 41,
   "id": "9781f8b9",
   "metadata": {},
   "outputs": [
    {
     "name": "stdout",
     "output_type": "stream",
     "text": [
      "('Alice', 25, 'CS')\n",
      "(30.2, -97.8)\n"
     ]
    }
   ],
   "source": [
    "student = (\"Alice\", 25, \"CS\")  # Name, age, major\n",
    "coordinates = (30.2, -97.8)  # Latitude, longitude\n",
    "\n",
    "print(student)\n",
    "print(coordinates)"
   ]
  },
  {
   "cell_type": "markdown",
   "id": "a4fbdc40",
   "metadata": {},
   "source": [
    "## 3. Dictionaries\n",
    "\n",
    "\n",
    "Unordered collections of key-value pairs.\n",
    "Enclosed in curly braces {}.\n",
    "Keys must be unique and immutable (often strings or numbers). Values can be any data type.\n",
    "Ideal for storing data where you need to access items by a specific key."
   ]
  },
  {
   "cell_type": "code",
   "execution_count": 42,
   "id": "670d9ea0",
   "metadata": {},
   "outputs": [
    {
     "name": "stdout",
     "output_type": "stream",
     "text": [
      "{'Alice': '123-456-7890', 'Bob': '987-654-3210'}\n",
      "{'name': 'T-shirt', 'price': 19.99, 'size': 'M'}\n"
     ]
    }
   ],
   "source": [
    "phonebook = {\"Alice\": \"123-456-7890\", \"Bob\": \"987-654-3210\"}\n",
    "product = {\"name\": \"T-shirt\", \"price\": 19.99, \"size\": \"M\"}\n",
    "\n",
    "\n",
    "print(phonebook)\n",
    "print(product)"
   ]
  },
  {
   "cell_type": "markdown",
   "id": "66b43147",
   "metadata": {},
   "source": [
    "## 4. Sets:\n",
    "\n",
    "Unordered collections of unique elements.\n",
    "Enclosed in curly braces {}.\n",
    "Elements can be any data type (as long as they are hashable, meaning they can be used as dictionary keys).\n",
    "Useful for eliminating duplicates or checking membership in a collection."
   ]
  },
  {
   "cell_type": "code",
   "execution_count": 43,
   "id": "ad53b1d1",
   "metadata": {},
   "outputs": [
    {
     "name": "stdout",
     "output_type": "stream",
     "text": [
      "{1, 2, 3, 5}\n",
      "{'e', 'i', 'a', 'u', 'o'}\n"
     ]
    }
   ],
   "source": [
    "unique_numbers = {1, 5, 3, 1, 2}  # Duplicates are removed\n",
    "vowels = {'a', 'e', 'i', 'o', 'u'}\n",
    "\n",
    "print(unique_numbers)\n",
    "print(vowels)"
   ]
  },
  {
   "cell_type": "markdown",
   "id": "8f752cce",
   "metadata": {},
   "source": [
    "## Detailed Explanation\n",
    "\n",
    "\n",
    "\n",
    "**Lists:**\n",
    "\n",
    "Mutable: Elements can be added, removed, or modified after creation.\n",
    "\n",
    "Ordered: Elements maintain the order in which they were added.\n",
    "\n",
    "Duplicates Allowed: You can have the same element appear multiple times within a list.\n",
    "\n",
    "Business Use Case: A grocery store might use lists to store daily sales records, where items can be added as they are purchased and the order of purchase might be relevant for tracking trends.\n",
    "\n",
    "\n",
    "**Tuples:**\n",
    "\n",
    "Immutable: Elements cannot be changed after creation.\n",
    "\n",
    "Ordered: Elements maintain the order in which they were added.\n",
    "\n",
    "No Duplicates Allowed: All elements must be unique.\n",
    "\n",
    "Business Use Case: An e-commerce website might use tuples to represent customer addresses (street, city, state, zip code), where all components are important and shouldn't be modified after an order is placed.\n",
    "\n",
    "\n",
    "**Dictionaries:**\n",
    "\n",
    "Mutable: Key-value pairs can be added, removed, or modified.\n",
    "\n",
    "Unordered: Keys don't have a specific order (elements are accessed by key).\n",
    "\n",
    "No Duplicates for Keys: Keys must be unique, but values can appear multiple times.\n",
    "\n",
    "Business Use Case: A social media platform might use dictionaries to store user profiles, where each key (e.g., \"username,\" \"email\") maps to a specific value (e.g., user's name, email address).\n",
    "\n",
    "\n",
    "**Sets:**\n",
    "\n",
    "Mutable: Elements can be added or removed, but the order is not preserved.\n",
    "\n",
    "Unordered: Elements don't have a specific order (accessed by membership check).\n",
    "\n",
    "No Duplicates: Each element must be unique.\n",
    "\n",
    "Business Use Case: A content management system might use sets to store unique keywords for a blog post, ensuring no duplicate keywords are used for SEO purposes."
   ]
  }
 ],
 "metadata": {
  "kernelspec": {
   "display_name": "Python 3",
   "language": "python",
   "name": "python3"
  },
  "language_info": {
   "codemirror_mode": {
    "name": "ipython",
    "version": 3
   },
   "file_extension": ".py",
   "mimetype": "text/x-python",
   "name": "python",
   "nbconvert_exporter": "python",
   "pygments_lexer": "ipython3",
   "version": "3.8.8"
  }
 },
 "nbformat": 4,
 "nbformat_minor": 5
}
