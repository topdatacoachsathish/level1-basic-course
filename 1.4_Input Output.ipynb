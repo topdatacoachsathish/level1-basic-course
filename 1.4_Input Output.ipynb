{
 "cells": [
  {
   "cell_type": "markdown",
   "id": "11b71c35",
   "metadata": {},
   "source": [
    "# Input Output \n"
   ]
  },
  {
   "cell_type": "markdown",
   "id": "8a587d5b",
   "metadata": {},
   "source": [
    "# Print Function\n",
    "\n"
   ]
  },
  {
   "cell_type": "markdown",
   "id": "83fb1008",
   "metadata": {},
   "source": [
    "## 1. Basic print function:\n",
    "\n",
    "The most fundamental way to print in Python.\n",
    "\n",
    "Takes any number of arguments separated by commas.\n",
    "\n",
    "Newline character (\\n) is automatically added at the end by default"
   ]
  },
  {
   "cell_type": "code",
   "execution_count": 1,
   "id": "17a1dcdd",
   "metadata": {},
   "outputs": [
    {
     "name": "stdout",
     "output_type": "stream",
     "text": [
      "Hello, Alice\n",
      "Age: 30\n"
     ]
    }
   ],
   "source": [
    "name = \"Alice\"\n",
    "age = 30\n",
    "\n",
    "print(\"Hello,\", name)  # Output: Hello, Alice\n",
    "print(\"Age:\", age)     # Output: Age: 30\n"
   ]
  },
  {
   "cell_type": "markdown",
   "id": "c6b72c9a",
   "metadata": {},
   "source": [
    "## 2. print with sep (separator) argument:\n",
    "\n",
    "Controls the separator between printed arguments (defaults to a space).\n",
    "\n",
    "Useful for formatting output with custom separators."
   ]
  },
  {
   "cell_type": "code",
   "execution_count": 3,
   "id": "30be9c04",
   "metadata": {},
   "outputs": [
    {
     "name": "stdout",
     "output_type": "stream",
     "text": [
      "Name@ Alice@ Age@ 30\n"
     ]
    }
   ],
   "source": [
    "print(\"Name\", name, \"Age\", age, sep=\"@ \")  # Output: Name, Alice, Age, 30"
   ]
  },
  {
   "cell_type": "markdown",
   "id": "d7006a23",
   "metadata": {},
   "source": [
    "## 3. print with end (end character) argument:\n",
    "\n",
    "Controls the character printed at the end (defaults to newline).\n",
    "\n",
    "Useful for building multi-line output without starting a new line."
   ]
  },
  {
   "cell_type": "code",
   "execution_count": 4,
   "id": "d4a06089",
   "metadata": {},
   "outputs": [
    {
     "name": "stdout",
     "output_type": "stream",
     "text": [
      "Name: Alice\n"
     ]
    }
   ],
   "source": [
    "print(\"Name:\", end=\" \")  # No newline after \"Name:\"\n",
    "print(name)              # Output: Name: Alice\n"
   ]
  },
  {
   "cell_type": "markdown",
   "id": "aeedbee2",
   "metadata": {},
   "source": [
    "## 4. Formatted String Literals (f-strings):\n",
    "\n",
    "Introduced in Python 3.6.\n",
    "\n",
    "Embed expressions directly within strings using f-prefixes.\n",
    "\n",
    "Offer a concise and readable way to format output."
   ]
  },
  {
   "cell_type": "code",
   "execution_count": 5,
   "id": "6a239484",
   "metadata": {},
   "outputs": [
    {
     "name": "stdout",
     "output_type": "stream",
     "text": [
      "Hello, Alice! You are 30 years old.\n"
     ]
    }
   ],
   "source": [
    "message = f\"Hello, {name}! You are {age} years old.\"\n",
    "print(message)  # Output: Hello, Alice! You are 30 years old.\n"
   ]
  },
  {
   "cell_type": "markdown",
   "id": "ae2f1efe",
   "metadata": {},
   "source": [
    "# Prompt - User Input"
   ]
  },
  {
   "cell_type": "markdown",
   "id": "f9e360fe",
   "metadata": {},
   "source": [
    "## 1. Basic input() Function:\n",
    "\n",
    "The most common way to get user input in Python.\n",
    "\n",
    "Pauses program execution and waits for the user to enter text.\n",
    "\n",
    "Returns the entered input as a string."
   ]
  },
  {
   "cell_type": "code",
   "execution_count": 6,
   "id": "369369b7",
   "metadata": {},
   "outputs": [
    {
     "name": "stdout",
     "output_type": "stream",
     "text": [
      "What is your name? Raj\n",
      "Hello, Raj\n"
     ]
    }
   ],
   "source": [
    "name = input(\"What is your name? \")\n",
    "print(\"Hello,\", name)\n"
   ]
  },
  {
   "cell_type": "markdown",
   "id": "95059787",
   "metadata": {},
   "source": [
    "## 2. input() with Prompt:\n",
    "\n",
    "Similar to the basic input(), but you can specify a message to guide the user.\n",
    "\n",
    "The message is displayed before waiting for user input."
   ]
  },
  {
   "cell_type": "code",
   "execution_count": 7,
   "id": "5f78726f",
   "metadata": {},
   "outputs": [
    {
     "name": "stdout",
     "output_type": "stream",
     "text": [
      "How old are you? 29\n",
      "You are 29 years old.\n"
     ]
    }
   ],
   "source": [
    "age = int(input(\"How old are you? \"))  # Convert input to integer\n",
    "print(\"You are\", age, \"years old.\")\n"
   ]
  },
  {
   "cell_type": "markdown",
   "id": "5f084a26",
   "metadata": {},
   "source": [
    "## 3. Using a Loop with input():\n",
    "\n",
    "Useful for scenarios where you want to keep prompting the user until they enter a valid input."
   ]
  },
  {
   "cell_type": "code",
   "execution_count": 8,
   "id": "1833cedf",
   "metadata": {},
   "outputs": [
    {
     "name": "stdout",
     "output_type": "stream",
     "text": [
      "Enter a positive number: -45\n",
      "Invalid input. Please enter a positive number.\n",
      "Enter a positive number: 45\n",
      "You entered: 45\n"
     ]
    }
   ],
   "source": [
    "while True:\n",
    "    number = input(\"Enter a positive number: \")\n",
    "    try:\n",
    "        if int(number) > 0:\n",
    "            break  # Exit the loop if valid input is entered\n",
    "        else:\n",
    "            print(\"Invalid input. Please enter a positive number.\")\n",
    "    except ValueError:\n",
    "        print(\"Invalid input. Please enter a number.\")\n",
    "\n",
    "print(\"You entered:\", number)\n"
   ]
  },
  {
   "cell_type": "markdown",
   "id": "511dbf2e",
   "metadata": {},
   "source": [
    "# File Read Options"
   ]
  },
  {
   "cell_type": "markdown",
   "id": "5c2beb99",
   "metadata": {},
   "source": [
    "## 1.  Using open() function (basic approach):\n",
    "\n",
    "The most fundamental way to read a file.\n",
    "\n",
    "Opens a file in read mode ('r') by default.\n",
    "\n",
    "Returns a file object that you can use to read the content."
   ]
  },
  {
   "cell_type": "code",
   "execution_count": 10,
   "id": "4a155655",
   "metadata": {},
   "outputs": [
    {
     "name": "stdout",
     "output_type": "stream",
     "text": [
      "AccID,Name,Gender,Age,AccOpen,Balance,AccStatus\n",
      "ACC001,Raj,M,30,01-JAN-20,5000,Active\n",
      "ACC002,Riya,F,29,01-JAN-21,8000,Inactive\n",
      "ACC003,Amit,M,35,02-FEB-20,12000,Active\n",
      "ACC004,Priya,F,28,02-FEB-21,4500,Active\n",
      "ACC005,Vikram,M,40,03-MAR-20,7800,Active\n",
      "ACC006,Sonia,F,32,03-MAR-21,9200,Inactive\n",
      "ACC007,Rahul,M,25,04-APR-20,10500,Active\n",
      "ACC008,Pooja,F,22,04-APR-21,3800,Active\n",
      "ACC009,Sunil,M,50,05-MAY-20,25000,Active\n",
      "ACC010,Anjali,F,45,05-MAY-21,18000,Active\n",
      "ACC011,Vivek,M,38,06-JUN-20,11200,Active\n",
      "ACC012,Neha,F,31,06-JUN-21,6700,Active\n",
      "ACC013,Rohit,M,27,07-JUL-20,9800,Active\n",
      "ACC014,Aisha,F,24,07-JUL-21,5200,Active\n",
      "ACC015,Manish,M,42,08-AUG-20,14000,Active\n",
      "ACC016,Kiara,F,36,08-AUG-21,7500,Active\n",
      "ACC017,Sagar,M,33,09-SEP-20,8900,Active\n",
      "ACC018,Rani,F,26,09-SEP-21,4100,Active\n",
      "ACC019,Ajay,M,55,10-OCT-20,32000,Active\n",
      "ACC020,Seema,F,48,10-OCT-21,21000,Active\n",
      "ACC021,Atul,M,41,11-NOV-20,13500,Active\n",
      "ACC022,Nikita,F,34,11-NOV-21,8100,Active\n",
      "ACC023,Kapil,M,29,12-DEC-20,10200,Active\n",
      "ACC024,Nisha,F,23,12-DEC-21,6000,Active\n",
      "ACC025,Deepak,M,37,01-JAN-22,15800,Active\n",
      "ACC026,Sita,F,30,01-JAN-23,9400,Active\n",
      "ACC027,Arjun,M,44,02-FEB-22,17000,Active\n",
      "ACC028,Sunita,F,39,02-FEB-23,11000,Active\n",
      "ACC029,Yash,M,26,03-MAR-22,8500,Active\n",
      "ACC030,Priyanka,F,21,03-MAR-23,4900,Active\n",
      "\n"
     ]
    }
   ],
   "source": [
    "with open(\"Basic_data.csv\", \"r\") as file:\n",
    "    content = file.read()  # Read entire file content\n",
    "    print(content)\n"
   ]
  },
  {
   "cell_type": "markdown",
   "id": "9735a804",
   "metadata": {},
   "source": [
    "## 2. Reading Line by Line (using readline()):\n",
    "\n",
    "Useful for processing large files or when you only need specific lines.\n",
    "\n",
    "Reads the next line from the file as a string."
   ]
  },
  {
   "cell_type": "code",
   "execution_count": 11,
   "id": "1482dff5",
   "metadata": {},
   "outputs": [
    {
     "name": "stdout",
     "output_type": "stream",
     "text": [
      "AccID,Name,Gender,Age,AccOpen,Balance,AccStatus\n",
      "ACC001,Raj,M,30,01-JAN-20,5000,Active\n",
      "ACC002,Riya,F,29,01-JAN-21,8000,Inactive\n",
      "ACC003,Amit,M,35,02-FEB-20,12000,Active\n",
      "ACC004,Priya,F,28,02-FEB-21,4500,Active\n",
      "ACC005,Vikram,M,40,03-MAR-20,7800,Active\n",
      "ACC006,Sonia,F,32,03-MAR-21,9200,Inactive\n",
      "ACC007,Rahul,M,25,04-APR-20,10500,Active\n",
      "ACC008,Pooja,F,22,04-APR-21,3800,Active\n",
      "ACC009,Sunil,M,50,05-MAY-20,25000,Active\n",
      "ACC010,Anjali,F,45,05-MAY-21,18000,Active\n",
      "ACC011,Vivek,M,38,06-JUN-20,11200,Active\n",
      "ACC012,Neha,F,31,06-JUN-21,6700,Active\n",
      "ACC013,Rohit,M,27,07-JUL-20,9800,Active\n",
      "ACC014,Aisha,F,24,07-JUL-21,5200,Active\n",
      "ACC015,Manish,M,42,08-AUG-20,14000,Active\n",
      "ACC016,Kiara,F,36,08-AUG-21,7500,Active\n",
      "ACC017,Sagar,M,33,09-SEP-20,8900,Active\n",
      "ACC018,Rani,F,26,09-SEP-21,4100,Active\n",
      "ACC019,Ajay,M,55,10-OCT-20,32000,Active\n",
      "ACC020,Seema,F,48,10-OCT-21,21000,Active\n",
      "ACC021,Atul,M,41,11-NOV-20,13500,Active\n",
      "ACC022,Nikita,F,34,11-NOV-21,8100,Active\n",
      "ACC023,Kapil,M,29,12-DEC-20,10200,Active\n",
      "ACC024,Nisha,F,23,12-DEC-21,6000,Active\n",
      "ACC025,Deepak,M,37,01-JAN-22,15800,Active\n",
      "ACC026,Sita,F,30,01-JAN-23,9400,Active\n",
      "ACC027,Arjun,M,44,02-FEB-22,17000,Active\n",
      "ACC028,Sunita,F,39,02-FEB-23,11000,Active\n",
      "ACC029,Yash,M,26,03-MAR-22,8500,Active\n",
      "ACC030,Priyanka,F,21,03-MAR-23,4900,Active\n"
     ]
    }
   ],
   "source": [
    "with open(\"Basic_data.csv\", \"r\") as file:\n",
    "    for line in file:\n",
    "        print(line.strip())  # Remove trailing newline character\n"
   ]
  },
  {
   "cell_type": "markdown",
   "id": "abf308f6",
   "metadata": {},
   "source": [
    "## 3. Reading All Lines into a List (using readlines()):\n",
    "\n",
    "Reads all lines from the file and stores them as a list of strings.\n",
    "\n",
    "Efficient for smaller files where you need all content at once."
   ]
  },
  {
   "cell_type": "code",
   "execution_count": 13,
   "id": "3ceba5c6",
   "metadata": {},
   "outputs": [
    {
     "name": "stdout",
     "output_type": "stream",
     "text": [
      "AccID,Name,Gender,Age,AccOpen,Balance,AccStatus\n",
      "ACC001,Raj,M,30,01-JAN-20,5000,Active\n",
      "ACC002,Riya,F,29,01-JAN-21,8000,Inactive\n",
      "ACC003,Amit,M,35,02-FEB-20,12000,Active\n",
      "ACC004,Priya,F,28,02-FEB-21,4500,Active\n",
      "ACC005,Vikram,M,40,03-MAR-20,7800,Active\n",
      "ACC006,Sonia,F,32,03-MAR-21,9200,Inactive\n",
      "ACC007,Rahul,M,25,04-APR-20,10500,Active\n",
      "ACC008,Pooja,F,22,04-APR-21,3800,Active\n",
      "ACC009,Sunil,M,50,05-MAY-20,25000,Active\n",
      "ACC010,Anjali,F,45,05-MAY-21,18000,Active\n",
      "ACC011,Vivek,M,38,06-JUN-20,11200,Active\n",
      "ACC012,Neha,F,31,06-JUN-21,6700,Active\n",
      "ACC013,Rohit,M,27,07-JUL-20,9800,Active\n",
      "ACC014,Aisha,F,24,07-JUL-21,5200,Active\n",
      "ACC015,Manish,M,42,08-AUG-20,14000,Active\n",
      "ACC016,Kiara,F,36,08-AUG-21,7500,Active\n",
      "ACC017,Sagar,M,33,09-SEP-20,8900,Active\n",
      "ACC018,Rani,F,26,09-SEP-21,4100,Active\n",
      "ACC019,Ajay,M,55,10-OCT-20,32000,Active\n",
      "ACC020,Seema,F,48,10-OCT-21,21000,Active\n",
      "ACC021,Atul,M,41,11-NOV-20,13500,Active\n",
      "ACC022,Nikita,F,34,11-NOV-21,8100,Active\n",
      "ACC023,Kapil,M,29,12-DEC-20,10200,Active\n",
      "ACC024,Nisha,F,23,12-DEC-21,6000,Active\n",
      "ACC025,Deepak,M,37,01-JAN-22,15800,Active\n",
      "ACC026,Sita,F,30,01-JAN-23,9400,Active\n",
      "ACC027,Arjun,M,44,02-FEB-22,17000,Active\n",
      "ACC028,Sunita,F,39,02-FEB-23,11000,Active\n",
      "ACC029,Yash,M,26,03-MAR-22,8500,Active\n",
      "ACC030,Priyanka,F,21,03-MAR-23,4900,Active\n"
     ]
    }
   ],
   "source": [
    "with open(\"Basic_data.csv\", \"r\") as file:\n",
    "    lines = file.readlines()\n",
    "    for line in lines:\n",
    "        print(line.strip())\n"
   ]
  },
  {
   "cell_type": "markdown",
   "id": "ab7cbd4b",
   "metadata": {},
   "source": [
    "## 4. Using for loop with file object (alternative to readlines()):\n",
    "\n",
    "Iterates through the file line by line without storing everything in memory.\n",
    "\n",
    "More memory-efficient for large files."
   ]
  },
  {
   "cell_type": "code",
   "execution_count": 14,
   "id": "e1438f4d",
   "metadata": {},
   "outputs": [
    {
     "name": "stdout",
     "output_type": "stream",
     "text": [
      "AccID,Name,Gender,Age,AccOpen,Balance,AccStatus\n",
      "ACC001,Raj,M,30,01-JAN-20,5000,Active\n",
      "ACC002,Riya,F,29,01-JAN-21,8000,Inactive\n",
      "ACC003,Amit,M,35,02-FEB-20,12000,Active\n",
      "ACC004,Priya,F,28,02-FEB-21,4500,Active\n",
      "ACC005,Vikram,M,40,03-MAR-20,7800,Active\n",
      "ACC006,Sonia,F,32,03-MAR-21,9200,Inactive\n",
      "ACC007,Rahul,M,25,04-APR-20,10500,Active\n",
      "ACC008,Pooja,F,22,04-APR-21,3800,Active\n",
      "ACC009,Sunil,M,50,05-MAY-20,25000,Active\n",
      "ACC010,Anjali,F,45,05-MAY-21,18000,Active\n",
      "ACC011,Vivek,M,38,06-JUN-20,11200,Active\n",
      "ACC012,Neha,F,31,06-JUN-21,6700,Active\n",
      "ACC013,Rohit,M,27,07-JUL-20,9800,Active\n",
      "ACC014,Aisha,F,24,07-JUL-21,5200,Active\n",
      "ACC015,Manish,M,42,08-AUG-20,14000,Active\n",
      "ACC016,Kiara,F,36,08-AUG-21,7500,Active\n",
      "ACC017,Sagar,M,33,09-SEP-20,8900,Active\n",
      "ACC018,Rani,F,26,09-SEP-21,4100,Active\n",
      "ACC019,Ajay,M,55,10-OCT-20,32000,Active\n",
      "ACC020,Seema,F,48,10-OCT-21,21000,Active\n",
      "ACC021,Atul,M,41,11-NOV-20,13500,Active\n",
      "ACC022,Nikita,F,34,11-NOV-21,8100,Active\n",
      "ACC023,Kapil,M,29,12-DEC-20,10200,Active\n",
      "ACC024,Nisha,F,23,12-DEC-21,6000,Active\n",
      "ACC025,Deepak,M,37,01-JAN-22,15800,Active\n",
      "ACC026,Sita,F,30,01-JAN-23,9400,Active\n",
      "ACC027,Arjun,M,44,02-FEB-22,17000,Active\n",
      "ACC028,Sunita,F,39,02-FEB-23,11000,Active\n",
      "ACC029,Yash,M,26,03-MAR-22,8500,Active\n",
      "ACC030,Priyanka,F,21,03-MAR-23,4900,Active\n"
     ]
    }
   ],
   "source": [
    "with open(\"Basic_data.csv\", \"r\") as file:\n",
    "    for line in file:\n",
    "        print(line.strip())\n"
   ]
  },
  {
   "cell_type": "markdown",
   "id": "d9e88fd1",
   "metadata": {},
   "source": [
    "# File Write Options"
   ]
  },
  {
   "cell_type": "markdown",
   "id": "891c4684",
   "metadata": {},
   "source": [
    "## 1. Writing Text with write():\n",
    "\n",
    "The basic method for writing content to a file.\n",
    "\n",
    "Takes a string argument containing the data to be written.\n",
    "\n",
    "Opens the file in write mode ('w') by default, overwriting existing content."
   ]
  },
  {
   "cell_type": "code",
   "execution_count": 15,
   "id": "dedddd53",
   "metadata": {},
   "outputs": [],
   "source": [
    "data = \"This is some text to write to the file.\\n\"\n",
    "with open(\"output.txt\", \"w\") as file:\n",
    "    file.write(data)\n"
   ]
  },
  {
   "cell_type": "markdown",
   "id": "829cbc8b",
   "metadata": {},
   "source": [
    "## 2. Appending Text with append():\n",
    "\n",
    "Useful for adding new content to an existing file without erasing previous data.\n",
    "\n",
    "Opens the file in append mode ('a') by default."
   ]
  },
  {
   "cell_type": "code",
   "execution_count": 16,
   "id": "a4001815",
   "metadata": {},
   "outputs": [],
   "source": [
    "data = \"Adding more text to the file.\\n\"\n",
    "with open(\"output.txt\", \"a\") as file:\n",
    "    file.write(data)\n"
   ]
  },
  {
   "cell_type": "markdown",
   "id": "341b0c42",
   "metadata": {},
   "source": [
    "## 3. Writing Lines with writelines():\n",
    "\n",
    "Takes an iterable (like a list) of strings as input.\n",
    "\n",
    "Writes each element (line) to the file with a newline character appended automatically."
   ]
  },
  {
   "cell_type": "code",
   "execution_count": 17,
   "id": "49ad166e",
   "metadata": {},
   "outputs": [],
   "source": [
    "lines = [\"Line 1\\n\", \"Line 2\\n\", \"Line 3\\n\"]\n",
    "with open(\"output.txt\", \"w\") as file:  # Use 'w' to overwrite for this example\n",
    "    file.writelines(lines)\n"
   ]
  },
  {
   "cell_type": "markdown",
   "id": "be017f48",
   "metadata": {},
   "source": [
    "## 4. Formatted String Writing with f-strings (Python 3.6+):\n",
    "\n",
    "Combine string formatting with file writing for a concise approach.\n",
    "\n",
    "Create the formatted string and write it directly to the file."
   ]
  },
  {
   "cell_type": "code",
   "execution_count": 18,
   "id": "e31ba7e1",
   "metadata": {},
   "outputs": [],
   "source": [
    "name = \"Alice\"\n",
    "age = 30\n",
    "with open(\"data.txt\", \"w\") as file:\n",
    "    file.write(f\"Hello, {name}! You are {age} years old.\\n\")\n"
   ]
  },
  {
   "cell_type": "code",
   "execution_count": null,
   "id": "e31f8cf6",
   "metadata": {},
   "outputs": [],
   "source": []
  }
 ],
 "metadata": {
  "kernelspec": {
   "display_name": "Python 3",
   "language": "python",
   "name": "python3"
  },
  "language_info": {
   "codemirror_mode": {
    "name": "ipython",
    "version": 3
   },
   "file_extension": ".py",
   "mimetype": "text/x-python",
   "name": "python",
   "nbconvert_exporter": "python",
   "pygments_lexer": "ipython3",
   "version": "3.8.8"
  }
 },
 "nbformat": 4,
 "nbformat_minor": 5
}
