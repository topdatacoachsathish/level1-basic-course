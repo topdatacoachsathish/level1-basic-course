{
 "cells": [
  {
   "cell_type": "markdown",
   "id": "2cfebe6f",
   "metadata": {},
   "source": [
    "## Working with Data Structures in Python: Indexing, Decoding, Shape, and Reshaping (using CSV Files)"
   ]
  },
  {
   "cell_type": "markdown",
   "id": "e87eeec3",
   "metadata": {},
   "source": [
    "### 1: Indexing Data in a DataFrame"
   ]
  },
  {
   "cell_type": "code",
   "execution_count": 8,
   "id": "63f105b2",
   "metadata": {},
   "outputs": [
    {
     "name": "stdout",
     "output_type": "stream",
     "text": [
      "    AccID    Name Gender  Age    AccOpen  Balance AccStatus\n",
      "0  ACC001     Raj      M   30  01-JAN-20     5000    Active\n",
      "1  ACC002    Riya      F   29  01-JAN-21     8000  Inactive\n",
      "2  ACC003    Amit      M   35  02-FEB-20    12000    Active\n",
      "3  ACC004   Priya      F   28  02-FEB-21     4500    Active\n",
      "4  ACC005  Vikram      M   40  03-MAR-20     7800    Active\n"
     ]
    }
   ],
   "source": [
    "import pandas as pd\n",
    "\n",
    "# Replace 'data.csv' with your actual file path\n",
    "data = pd.read_csv(\"Basic_data.csv\")\n",
    "\n",
    "print(data.head())"
   ]
  },
  {
   "cell_type": "markdown",
   "id": "670ef9ba",
   "metadata": {},
   "source": [
    "### By Label (Column Name):"
   ]
  },
  {
   "cell_type": "code",
   "execution_count": 2,
   "id": "e9aba118",
   "metadata": {},
   "outputs": [
    {
     "name": "stdout",
     "output_type": "stream",
     "text": [
      "0          Raj\n",
      "1         Riya\n",
      "2         Amit\n",
      "3        Priya\n",
      "4       Vikram\n",
      "5        Sonia\n",
      "6        Rahul\n",
      "7        Pooja\n",
      "8        Sunil\n",
      "9       Anjali\n",
      "10       Vivek\n",
      "11        Neha\n",
      "12       Rohit\n",
      "13       Aisha\n",
      "14      Manish\n",
      "15       Kiara\n",
      "16       Sagar\n",
      "17        Rani\n",
      "18        Ajay\n",
      "19       Seema\n",
      "20        Atul\n",
      "21      Nikita\n",
      "22       Kapil\n",
      "23       Nisha\n",
      "24      Deepak\n",
      "25        Sita\n",
      "26       Arjun\n",
      "27      Sunita\n",
      "28        Yash\n",
      "29    Priyanka\n",
      "Name: Name, dtype: object\n"
     ]
    }
   ],
   "source": [
    "# Access a specific column\n",
    "name_column = data[\"Name\"]\n",
    "print(name_column)\n"
   ]
  },
  {
   "cell_type": "markdown",
   "id": "4831c433",
   "metadata": {},
   "source": [
    "### By Position (Integer Index)"
   ]
  },
  {
   "cell_type": "code",
   "execution_count": 4,
   "id": "164391c9",
   "metadata": {},
   "outputs": [
    {
     "name": "stdout",
     "output_type": "stream",
     "text": [
      "AccID           ACC001\n",
      "Name               Raj\n",
      "Gender               M\n",
      "Age                 30\n",
      "AccOpen      01-JAN-20\n",
      "Balance           5000\n",
      "AccStatus       Active\n",
      "Name: 0, dtype: object\n",
      "------------------\n",
      "F\n"
     ]
    }
   ],
   "source": [
    "# Access the first row\n",
    "first_row = data.iloc[0]\n",
    "print(first_row)\n",
    "\n",
    "print('------------------')\n",
    "\n",
    "# Access a specific cell by row and column index\n",
    "cell_value = data.iloc[1, 2]  # Row 1 (index 0), Column 2 (index 1)\n",
    "print(cell_value)\n"
   ]
  },
  {
   "cell_type": "markdown",
   "id": "39ff41a6",
   "metadata": {},
   "source": [
    "### Boolean Indexing (Filtering)"
   ]
  },
  {
   "cell_type": "code",
   "execution_count": 5,
   "id": "7a8a8a1a",
   "metadata": {},
   "outputs": [
    {
     "name": "stdout",
     "output_type": "stream",
     "text": [
      "     AccID    Name Gender  Age    AccOpen  Balance AccStatus\n",
      "2   ACC003    Amit      M   35  02-FEB-20    12000    Active\n",
      "4   ACC005  Vikram      M   40  03-MAR-20     7800    Active\n",
      "5   ACC006   Sonia      F   32  03-MAR-21     9200  Inactive\n",
      "8   ACC009   Sunil      M   50  05-MAY-20    25000    Active\n",
      "9   ACC010  Anjali      F   45  05-MAY-21    18000    Active\n",
      "10  ACC011   Vivek      M   38  06-JUN-20    11200    Active\n",
      "11  ACC012    Neha      F   31  06-JUN-21     6700    Active\n",
      "14  ACC015  Manish      M   42  08-AUG-20    14000    Active\n",
      "15  ACC016   Kiara      F   36  08-AUG-21     7500    Active\n",
      "16  ACC017   Sagar      M   33  09-SEP-20     8900    Active\n",
      "18  ACC019    Ajay      M   55  10-OCT-20    32000    Active\n",
      "19  ACC020   Seema      F   48  10-OCT-21    21000    Active\n",
      "20  ACC021    Atul      M   41  11-NOV-20    13500    Active\n",
      "21  ACC022  Nikita      F   34  11-NOV-21     8100    Active\n",
      "24  ACC025  Deepak      M   37  01-JAN-22    15800    Active\n",
      "26  ACC027   Arjun      M   44  02-FEB-22    17000  DeActive\n",
      "28  ACC029    Yash      M   99  03-MAR-22     8500    Active\n"
     ]
    }
   ],
   "source": [
    "# Filter rows where 'Age' is greater than 30\n",
    "filtered_data = data[data[\"Age\"] > 30]\n",
    "print(filtered_data)\n"
   ]
  },
  {
   "cell_type": "markdown",
   "id": "b18b2198",
   "metadata": {},
   "source": [
    "### Modifying Data"
   ]
  },
  {
   "cell_type": "code",
   "execution_count": 9,
   "id": "cffb58b2",
   "metadata": {},
   "outputs": [
    {
     "name": "stdout",
     "output_type": "stream",
     "text": [
      "    AccID       Name Gender  Age    AccOpen  Balance AccStatus\n",
      "0  ACC001        Raj      M   30  01-JAN-20   5250.0    Active\n",
      "1  ACC002       Riya      F   29  01-JAN-21   8400.0  Inactive\n",
      "2  ACC003  Amitkumar      M   35  02-FEB-20  12600.0    Active\n",
      "3  ACC004      Priya      F   28  02-FEB-21   4725.0    Active\n",
      "4  ACC005     Vikram      M   40  03-MAR-20   8190.0    Active\n"
     ]
    }
   ],
   "source": [
    "# Update a value in a specific cell\n",
    "data.loc[2, \"Name\"] = \"Amitkumar\"  # Row 2 (index 1), 'City' column\n",
    "\n",
    "# Update all values in a column\n",
    "data[\"Balance\"] = data[\"Balance\"] * 1.05  # Increase balance by 5%\n",
    "\n",
    "print(data.head())\n"
   ]
  },
  {
   "cell_type": "markdown",
   "id": "05ff7ce1",
   "metadata": {},
   "source": [
    "### 2. Decoding Encoded Data\n",
    "\n",
    "#### String Decoding:\n",
    "\n",
    "If your CSV file contains non-standard characters or encodings, you might need to specify the encoding during reading."
   ]
  },
  {
   "cell_type": "code",
   "execution_count": 11,
   "id": "f8a3eb45",
   "metadata": {},
   "outputs": [
    {
     "name": "stdout",
     "output_type": "stream",
     "text": [
      "0          Raj\n",
      "1         Riya\n",
      "2         Amit\n",
      "3        Priya\n",
      "4       Vikram\n",
      "5        Sonia\n",
      "6        Rahul\n",
      "7        Pooja\n",
      "8        Sunil\n",
      "9       Anjali\n",
      "10       Vivek\n",
      "11        Neha\n",
      "12       Rohit\n",
      "13       Aisha\n",
      "14      Manish\n",
      "15       Kiara\n",
      "16       Sagar\n",
      "17        Rani\n",
      "18        Ajay\n",
      "19       Seema\n",
      "20        Atul\n",
      "21      Nikita\n",
      "22       Kapil\n",
      "23       Nisha\n",
      "24      Deepak\n",
      "25        Sita\n",
      "26       Arjun\n",
      "27      Sunita\n",
      "28        Yash\n",
      "29    Priyanka\n",
      "Name: Name, dtype: object\n"
     ]
    }
   ],
   "source": [
    "# Read a CSV with a specific encoding (replace 'latin-1' as needed)\n",
    "data = pd.read_csv(\"Basic_data.csv\", encoding=\"latin-1\")\n",
    "\n",
    "# Access and print decoded data\n",
    "print(data[\"Name\"])\n",
    "\n"
   ]
  },
  {
   "cell_type": "markdown",
   "id": "36ba3d30",
   "metadata": {},
   "source": [
    "### Categorical Decoding:"
   ]
  },
  {
   "cell_type": "code",
   "execution_count": 12,
   "id": "bcb95bc2",
   "metadata": {},
   "outputs": [
    {
     "name": "stdout",
     "output_type": "stream",
     "text": [
      "  Gender Gender_Name\n",
      "0      M        Male\n",
      "1      F      Female\n",
      "2      M        Male\n",
      "3      F      Female\n",
      "4      M        Male\n"
     ]
    }
   ],
   "source": [
    "# Assuming 'Category' column contains integer codes\n",
    "data[\"Gender_Name\"] = data[\"Gender\"].map({\"F\": \"Female\", \"M\": \"Male\"})\n",
    "print(data[[\"Gender\", \"Gender_Name\"]].head())\n"
   ]
  },
  {
   "cell_type": "markdown",
   "id": "2e3fdef8",
   "metadata": {},
   "source": [
    "### 3. Understanding Data Shape\n",
    "\n",
    "The shape of a DataFrame is a tuple representing the number of rows and columns: (rows, columns).\n"
   ]
  },
  {
   "cell_type": "code",
   "execution_count": 13,
   "id": "d132fcfb",
   "metadata": {},
   "outputs": [
    {
     "name": "stdout",
     "output_type": "stream",
     "text": [
      "Data Shape: (30, 8)\n"
     ]
    }
   ],
   "source": [
    "# Get the shape of the DataFrame\n",
    "data_shape = data.shape\n",
    "print(\"Data Shape:\", data_shape)\n"
   ]
  },
  {
   "cell_type": "markdown",
   "id": "421d8741",
   "metadata": {},
   "source": [
    "### A Series (single column) shape is a single integer representing the number of elements."
   ]
  },
  {
   "cell_type": "code",
   "execution_count": 14,
   "id": "b6e5dba1",
   "metadata": {},
   "outputs": [
    {
     "name": "stdout",
     "output_type": "stream",
     "text": [
      "Age Series Shape: (30,)\n"
     ]
    }
   ],
   "source": [
    "# Get the shape of a Series (e.g., 'Age' column)\n",
    "age_series_shape = data[\"Age\"].shape\n",
    "print(\"Age Series Shape:\", age_series_shape)\n"
   ]
  },
  {
   "cell_type": "markdown",
   "id": "5dcde530",
   "metadata": {},
   "source": [
    "### 4. Reshaping Data (Resizing and Pivoting)\n",
    "\n",
    "#### Resizing\n",
    "\n",
    ".iloc for integer-based selection and resizing."
   ]
  },
  {
   "cell_type": "code",
   "execution_count": 16,
   "id": "1477df2d",
   "metadata": {},
   "outputs": [
    {
     "name": "stdout",
     "output_type": "stream",
     "text": [
      "(10, 8)\n",
      "    AccID    Name Gender  Age    AccOpen  Balance AccStatus Gender_Name\n",
      "0  ACC001     Raj      M   30  01-JAN-20     5000    Active        Male\n",
      "1  ACC002    Riya      F   29  01-JAN-21     8000  Inactive      Female\n",
      "2  ACC003    Amit      M   35  02-FEB-20    12000    Active        Male\n",
      "3  ACC004   Priya      F   28  02-FEB-21     4500    Active      Female\n",
      "4  ACC005  Vikram      M   40  03-MAR-20     7800    Active        Male\n",
      "5  ACC006   Sonia      F   32  03-MAR-21     9200  Inactive      Female\n",
      "6  ACC007   Rahul      M   25  04-APR-20    10500    Active        Male\n",
      "7  ACC008   Pooja      F   22  04-APR-21     3800    Active      Female\n",
      "8  ACC009   Sunil      M   50  05-MAY-20    25000    Active        Male\n",
      "9  ACC010  Anjali      F   45  05-MAY-21    18000    Active      Female\n"
     ]
    }
   ],
   "source": [
    "# Select the first 10 rows and all columns\n",
    "data_subset = data.iloc[:10, :]\n",
    "print(data_subset.shape)\n",
    "\n",
    "print(data_subset)\n"
   ]
  },
  {
   "cell_type": "markdown",
   "id": "6b8e2c5c",
   "metadata": {},
   "source": [
    "#### .loc for label-based selection and resizing."
   ]
  },
  {
   "cell_type": "code",
   "execution_count": 18,
   "id": "bd1336a5",
   "metadata": {},
   "outputs": [
    {
     "name": "stdout",
     "output_type": "stream",
     "text": [
      "(5, 8)\n",
      "     AccID      Name Gender  Age    AccOpen  Balance AccStatus Gender_Name\n",
      "7   ACC008     Pooja      F   22  04-APR-21     3800    Active      Female\n",
      "13  ACC014     Aisha      F   24  07-JUL-21     5200    Active      Female\n",
      "23  ACC024     Nisha      F   23  12-DEC-21     6000    Active      Female\n",
      "27  ACC028    Sunita      F    3  32-FEB-23    11000    Active      Female\n",
      "29  ACC030  Priyanka    NaN   21  03-MAR-23     4900    Active         NaN\n"
     ]
    }
   ],
   "source": [
    "# Select rows where 'Age' is less than 25 and all columns\n",
    "young_data = data.loc[data[\"Age\"] < 25, :]\n",
    "print(young_data.shape)\n",
    "\n",
    "print(young_data)\n"
   ]
  },
  {
   "cell_type": "markdown",
   "id": "92d99fda",
   "metadata": {},
   "source": [
    "#### Pivoting\n",
    "\n",
    "pivot_table for summarizing or transforming data."
   ]
  },
  {
   "cell_type": "code",
   "execution_count": 21,
   "id": "7e07cc26",
   "metadata": {},
   "outputs": [
    {
     "name": "stdout",
     "output_type": "stream",
     "text": [
      "Gender          F             M\n",
      "AccStatus                      \n",
      "Active     8775.0  13157.142857\n",
      "DeActive      NaN  17000.000000\n",
      "Inactive   8600.0           NaN\n"
     ]
    }
   ],
   "source": [
    "import numpy as np\n",
    "# Create a pivot table with 'Age' as rows and 'City' as columns, aggregating balance by mean\n",
    "age_city_balance = data.pivot_table(values=\"Balance\", index=\"AccStatus\", columns=\"Gender\", aggfunc=np.mean)\n",
    "print(age_city_balance)\n",
    "\n"
   ]
  },
  {
   "cell_type": "markdown",
   "id": "2af9ce22",
   "metadata": {},
   "source": [
    "# Remember:\n",
    "\n",
    "These topics provide a foundational understanding. Explore more advanced functionalities in pandas for comprehensive data manipulation.\n",
    "\n",
    "Practice with different CSV files to solidify your learnings."
   ]
  }
 ],
 "metadata": {
  "kernelspec": {
   "display_name": "Python 3",
   "language": "python",
   "name": "python3"
  },
  "language_info": {
   "codemirror_mode": {
    "name": "ipython",
    "version": 3
   },
   "file_extension": ".py",
   "mimetype": "text/x-python",
   "name": "python",
   "nbconvert_exporter": "python",
   "pygments_lexer": "ipython3",
   "version": "3.8.8"
  }
 },
 "nbformat": 4,
 "nbformat_minor": 5
}
