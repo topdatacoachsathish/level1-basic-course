{
 "cells": [
  {
   "cell_type": "markdown",
   "id": "2cfebe6f",
   "metadata": {},
   "source": [
    "## Basic Data Transformation in Python using a CSV File (Numeric, String, Date, Boolean) "
   ]
  },
  {
   "cell_type": "markdown",
   "id": "e87eeec3",
   "metadata": {},
   "source": [
    "### 1. Import libraries and Load Data"
   ]
  },
  {
   "cell_type": "code",
   "execution_count": 1,
   "id": "63f105b2",
   "metadata": {},
   "outputs": [
    {
     "name": "stdout",
     "output_type": "stream",
     "text": [
      "     AccID      Name Gender  Age    AccOpen  Balance AccStatus\n",
      "0   ACC001       Raj      M   30  01-JAN-20     5000    Active\n",
      "1   ACC002      Riya      F   29  01-JAN-21     8000  Inactive\n",
      "2   ACC003      Amit      M   35  02-FEB-20    12000    Active\n",
      "3   ACC004     Priya      F   28  02-FEB-21     4500    Active\n",
      "4   ACC005    Vikram      M   40  03-MAR-20     7800    Active\n",
      "5   ACC006     Sonia      F   32  03-MAR-21     9200  Inactive\n",
      "6   ACC007     Rahul      M   25  04-APR-20    10500    Active\n",
      "7   ACC008     Pooja      F   22  04-APR-21     3800    Active\n",
      "8   ACC009     Sunil      M   50  05-MAY-20    25000    Active\n",
      "9   ACC010    Anjali      F   45  05-MAY-21    18000    Active\n",
      "10  ACC011     Vivek      M   38  06-JUN-20    11200    Active\n",
      "11  ACC012      Neha      F   31  06-JUN-21     6700    Active\n",
      "12  ACC013     Rohit      M   27  07-JUL-20     9800    Active\n",
      "13  ACC014     Aisha      F   24  07-JUL-21     5200    Active\n",
      "14  ACC015    Manish      M   42  08-AUG-20    14000    Active\n",
      "15  ACC016     Kiara      F   36  08-AUG-21     7500    Active\n",
      "16  ACC017     Sagar      M   33  09-SEP-20     8900    Active\n",
      "17  ACC018      Rani      F   26  09-SEP-21     4100    Active\n",
      "18  ACC019      Ajay      M   55  10-OCT-20    32000    Active\n",
      "19  ACC020     Seema      F   48  10-OCT-21    21000    Active\n",
      "20  ACC021      Atul      M   41  11-NOV-20    13500    Active\n",
      "21  ACC022    Nikita      F   34  11-NOV-21     8100    Active\n",
      "22  ACC023     Kapil      M   29  12-DEC-20    10200    Active\n",
      "23  ACC024     Nisha      F   23  12-DEC-21     6000    Active\n",
      "24  ACC025    Deepak      M   37  01-JAN-22    15800    Active\n",
      "25  ACC026      Sita      F   30  01-JAN-23     9400    Active\n",
      "26  ACC027     Arjun      M   44  02-FEB-22    17000  DeActive\n",
      "27  ACC028    Sunita      F    3  32-FEB-23    11000    Active\n",
      "28  ACC029      Yash      M   99  03-MAR-22     8500    Active\n",
      "29  ACC030  Priyanka    NaN   21  03-MAR-23     4900    Active\n"
     ]
    }
   ],
   "source": [
    "import pandas as pd\n",
    "\n",
    "# Replace 'data.csv' with your actual file path\n",
    "data = pd.read_csv(\"Basic_data.csv\")\n",
    "\n",
    "print(data)"
   ]
  },
  {
   "cell_type": "markdown",
   "id": "05ff7ce1",
   "metadata": {},
   "source": [
    "### 2. Numeric Data Transformations \n",
    "\n",
    "Calculations: You can perform arithmetic operations, statistical functions, and aggregations on numeric columns."
   ]
  },
  {
   "cell_type": "code",
   "execution_count": 2,
   "id": "f8a3eb45",
   "metadata": {},
   "outputs": [
    {
     "name": "stdout",
     "output_type": "stream",
     "text": [
      "Average Age: 35.233333333333334\n",
      "Minimum and Maximum Balance : (3800, 32000)\n"
     ]
    }
   ],
   "source": [
    "# Example: Calculate average of a numeric column ('Age')\n",
    "average_age = data[\"Age\"].mean()\n",
    "print(\"Average Age:\", average_age)\n",
    "\n",
    "# Example: Find minimum and maximum values\n",
    "data_range = (data[\"Balance\"].min(), data[\"Balance\"].max())\n",
    "print(\"Minimum and Maximum Balance :\", data_range)\n"
   ]
  },
  {
   "cell_type": "markdown",
   "id": "36ba3d30",
   "metadata": {},
   "source": [
    "### Binning: Create categories from continuous numeric data."
   ]
  },
  {
   "cell_type": "code",
   "execution_count": 3,
   "id": "bcb95bc2",
   "metadata": {},
   "outputs": [
    {
     "name": "stdout",
     "output_type": "stream",
     "text": [
      "   Balance Income_Category\n",
      "0     5000             Low\n",
      "1     8000             Low\n",
      "2    12000             Low\n",
      "3     4500             Low\n",
      "4     7800             Low\n"
     ]
    }
   ],
   "source": [
    "# Example: Create bins for 'Income' (replace bin ranges as needed)\n",
    "bins = [0, 25000, 50000, 100000]\n",
    "labels = [\"Low\", \"Medium\", \"High\"]\n",
    "data[\"Income_Category\"] = pd.cut(data[\"Balance\"], bins, labels=labels)\n",
    "print(data[[\"Balance\", \"Income_Category\"]].head())\n"
   ]
  },
  {
   "cell_type": "markdown",
   "id": "2e3fdef8",
   "metadata": {},
   "source": [
    "### 3. String Data Transformations\n",
    "\n",
    "Cleaning: Remove whitespaces, convert to uppercase/lowercase, or fix inconsistencies.\n"
   ]
  },
  {
   "cell_type": "code",
   "execution_count": 4,
   "id": "d132fcfb",
   "metadata": {},
   "outputs": [
    {
     "name": "stdout",
     "output_type": "stream",
     "text": [
      "     AccID      Name Gender  Age    AccOpen  Balance AccStatus Income_Category\n",
      "0   ACC001       Raj      M   30  01-JAN-20     5000    ACTIVE             Low\n",
      "1   ACC002      Riya      F   29  01-JAN-21     8000  INACTIVE             Low\n",
      "2   ACC003      Amit      M   35  02-FEB-20    12000    ACTIVE             Low\n",
      "3   ACC004     Priya      F   28  02-FEB-21     4500    ACTIVE             Low\n",
      "4   ACC005    Vikram      M   40  03-MAR-20     7800    ACTIVE             Low\n",
      "5   ACC006     Sonia      F   32  03-MAR-21     9200  INACTIVE             Low\n",
      "6   ACC007     Rahul      M   25  04-APR-20    10500    ACTIVE             Low\n",
      "7   ACC008     Pooja      F   22  04-APR-21     3800    ACTIVE             Low\n",
      "8   ACC009     Sunil      M   50  05-MAY-20    25000    ACTIVE             Low\n",
      "9   ACC010    Anjali      F   45  05-MAY-21    18000    ACTIVE             Low\n",
      "10  ACC011     Vivek      M   38  06-JUN-20    11200    ACTIVE             Low\n",
      "11  ACC012      Neha      F   31  06-JUN-21     6700    ACTIVE             Low\n",
      "12  ACC013     Rohit      M   27  07-JUL-20     9800    ACTIVE             Low\n",
      "13  ACC014     Aisha      F   24  07-JUL-21     5200    ACTIVE             Low\n",
      "14  ACC015    Manish      M   42  08-AUG-20    14000    ACTIVE             Low\n",
      "15  ACC016     Kiara      F   36  08-AUG-21     7500    ACTIVE             Low\n",
      "16  ACC017     Sagar      M   33  09-SEP-20     8900    ACTIVE             Low\n",
      "17  ACC018      Rani      F   26  09-SEP-21     4100    ACTIVE             Low\n",
      "18  ACC019      Ajay      M   55  10-OCT-20    32000    ACTIVE          Medium\n",
      "19  ACC020     Seema      F   48  10-OCT-21    21000    ACTIVE             Low\n",
      "20  ACC021      Atul      M   41  11-NOV-20    13500    ACTIVE             Low\n",
      "21  ACC022    Nikita      F   34  11-NOV-21     8100    ACTIVE             Low\n",
      "22  ACC023     Kapil      M   29  12-DEC-20    10200    ACTIVE             Low\n",
      "23  ACC024     Nisha      F   23  12-DEC-21     6000    ACTIVE             Low\n",
      "24  ACC025    Deepak      M   37  01-JAN-22    15800    ACTIVE             Low\n",
      "25  ACC026      Sita      F   30  01-JAN-23     9400    ACTIVE             Low\n",
      "26  ACC027     Arjun      M   44  02-FEB-22    17000  DEACTIVE             Low\n",
      "27  ACC028    Sunita      F    3  32-FEB-23    11000    ACTIVE             Low\n",
      "28  ACC029      Yash      M   99  03-MAR-22     8500    ACTIVE             Low\n",
      "29  ACC030  Priyanka    NaN   21  03-MAR-23     4900    ACTIVE             Low\n"
     ]
    }
   ],
   "source": [
    "# Example: Remove leading/trailing whitespaces from 'Name'\n",
    "data[\"Name\"] = data[\"Name\"].str.strip()\n",
    "\n",
    "\n",
    "# Example: Convert 'City' to uppercase\n",
    "data[\"AccStatus\"] = data[\"AccStatus\"].str.upper()\n",
    "\n",
    "print(data)"
   ]
  },
  {
   "cell_type": "markdown",
   "id": "421d8741",
   "metadata": {},
   "source": [
    "### Extracting Information: Use regular expressions for complex string manipulation. "
   ]
  },
  {
   "cell_type": "code",
   "execution_count": 5,
   "id": "b6e5dba1",
   "metadata": {},
   "outputs": [
    {
     "name": "stdout",
     "output_type": "stream",
     "text": [
      "     Name Initials\n",
      "0     Raj       Ra\n",
      "1    Riya       Ri\n",
      "2    Amit       Am\n",
      "3   Priya       Pr\n",
      "4  Vikram       Vi\n"
     ]
    }
   ],
   "source": [
    "# Example: Extract initials from 'Name' (assuming format: Last, First Middle)\n",
    "data[\"Initials\"] = data[\"Name\"].str.split(expand=True)[0].str[:2]\n",
    "print(data[[\"Name\", \"Initials\"]].head())\n"
   ]
  },
  {
   "cell_type": "markdown",
   "id": "5dcde530",
   "metadata": {},
   "source": [
    "### 4. Date Data Transformations\n",
    "\n",
    "Date/Time Calculations: Add/subtract time periods, extract components like year or month."
   ]
  },
  {
   "cell_type": "code",
   "execution_count": 6,
   "id": "1477df2d",
   "metadata": {},
   "outputs": [
    {
     "name": "stdout",
     "output_type": "stream",
     "text": [
      "    AccID    Name Gender  Age    AccOpen  Balance AccStatus Income_Category  \\\n",
      "0  ACC001     Raj      M   30  01-JAN-20     5000    ACTIVE             Low   \n",
      "1  ACC002    Riya      F   29  01-JAN-21     8000  INACTIVE             Low   \n",
      "2  ACC003    Amit      M   35  02-FEB-20    12000    ACTIVE             Low   \n",
      "3  ACC004   Priya      F   28  02-FEB-21     4500    ACTIVE             Low   \n",
      "4  ACC005  Vikram      M   40  03-MAR-20     7800    ACTIVE             Low   \n",
      "\n",
      "  Initials     Joined Joined_PreviousYear  JoinedYear  \n",
      "0       Ra 2020-01-01          2019-01-01        2020  \n",
      "1       Ri 2021-01-01          2020-01-01        2021  \n",
      "2       Am 2020-02-02          2019-02-02        2020  \n",
      "3       Pr 2021-02-02          2020-02-02        2021  \n",
      "4       Vi 2020-03-03          2019-03-03        2020  \n"
     ]
    }
   ],
   "source": [
    "# Example: Calculate 'Joined' date one year before current date\n",
    "\n",
    "data[\"Joined\"] = pd.to_datetime(data[\"AccOpen\"])\n",
    "data[\"Joined_PreviousYear\"] = data[\"Joined\"] - pd.DateOffset(years=1)\n",
    "\n",
    "# Example: Extract year from 'OrderDate'\n",
    "data[\"JoinedYear\"] = data[\"Joined\"].dt.year\n",
    "\n",
    "print(data.head())\n"
   ]
  },
  {
   "cell_type": "markdown",
   "id": "6b8e2c5c",
   "metadata": {},
   "source": [
    "### Formatting: Change the display format of dates"
   ]
  },
  {
   "cell_type": "code",
   "execution_count": 7,
   "id": "bd1336a5",
   "metadata": {},
   "outputs": [
    {
     "name": "stdout",
     "output_type": "stream",
     "text": [
      "    AccID    Name Gender  Age    AccOpen  Balance AccStatus Income_Category  \\\n",
      "0  ACC001     Raj      M   30  01-JAN-20     5000    ACTIVE             Low   \n",
      "1  ACC002    Riya      F   29  01-JAN-21     8000  INACTIVE             Low   \n",
      "2  ACC003    Amit      M   35  02-FEB-20    12000    ACTIVE             Low   \n",
      "3  ACC004   Priya      F   28  02-FEB-21     4500    ACTIVE             Low   \n",
      "4  ACC005  Vikram      M   40  03-MAR-20     7800    ACTIVE             Low   \n",
      "\n",
      "  Initials     Joined Joined_PreviousYear  JoinedYear JoinedYearMth  \n",
      "0       Ra 2020-01-01          2019-01-01        2020       2020-01  \n",
      "1       Ri 2021-01-01          2020-01-01        2021       2021-01  \n",
      "2       Am 2020-02-02          2019-02-02        2020       2020-02  \n",
      "3       Pr 2021-02-02          2020-02-02        2021       2021-02  \n",
      "4       Vi 2020-03-03          2019-03-03        2020       2020-03  \n"
     ]
    }
   ],
   "source": [
    "# Example: Format 'BirthDate' as YYYY-MM-DD\n",
    "data[\"JoinedYearMth\"] = data[\"Joined\"].dt.strftime(\"%Y-%m\")\n",
    "\n",
    "print(data.head())"
   ]
  },
  {
   "cell_type": "markdown",
   "id": "44a124ff",
   "metadata": {},
   "source": [
    "## 5. Boolean Data Transformations\n",
    "\n",
    "Logical Operations: Combine boolean columns or create new conditions. "
   ]
  },
  {
   "cell_type": "code",
   "execution_count": 8,
   "id": "faea6d5a",
   "metadata": {},
   "outputs": [
    {
     "name": "stdout",
     "output_type": "stream",
     "text": [
      "     AccID      Name Gender  Age    AccOpen  Balance AccStatus  \\\n",
      "0   ACC001       Raj      M   30  01-JAN-20     5000    ACTIVE   \n",
      "1   ACC002      Riya      F   29  01-JAN-21     8000  INACTIVE   \n",
      "2   ACC003      Amit      M   35  02-FEB-20    12000    ACTIVE   \n",
      "3   ACC004     Priya      F   28  02-FEB-21     4500    ACTIVE   \n",
      "4   ACC005    Vikram      M   40  03-MAR-20     7800    ACTIVE   \n",
      "5   ACC006     Sonia      F   32  03-MAR-21     9200  INACTIVE   \n",
      "6   ACC007     Rahul      M   25  04-APR-20    10500    ACTIVE   \n",
      "7   ACC008     Pooja      F   22  04-APR-21     3800    ACTIVE   \n",
      "8   ACC009     Sunil      M   50  05-MAY-20    25000    ACTIVE   \n",
      "9   ACC010    Anjali      F   45  05-MAY-21    18000    ACTIVE   \n",
      "10  ACC011     Vivek      M   38  06-JUN-20    11200    ACTIVE   \n",
      "11  ACC012      Neha      F   31  06-JUN-21     6700    ACTIVE   \n",
      "12  ACC013     Rohit      M   27  07-JUL-20     9800    ACTIVE   \n",
      "13  ACC014     Aisha      F   24  07-JUL-21     5200    ACTIVE   \n",
      "14  ACC015    Manish      M   42  08-AUG-20    14000    ACTIVE   \n",
      "15  ACC016     Kiara      F   36  08-AUG-21     7500    ACTIVE   \n",
      "16  ACC017     Sagar      M   33  09-SEP-20     8900    ACTIVE   \n",
      "17  ACC018      Rani      F   26  09-SEP-21     4100    ACTIVE   \n",
      "18  ACC019      Ajay      M   55  10-OCT-20    32000    ACTIVE   \n",
      "19  ACC020     Seema      F   48  10-OCT-21    21000    ACTIVE   \n",
      "20  ACC021      Atul      M   41  11-NOV-20    13500    ACTIVE   \n",
      "21  ACC022    Nikita      F   34  11-NOV-21     8100    ACTIVE   \n",
      "22  ACC023     Kapil      M   29  12-DEC-20    10200    ACTIVE   \n",
      "23  ACC024     Nisha      F   23  12-DEC-21     6000    ACTIVE   \n",
      "24  ACC025    Deepak      M   37  01-JAN-22    15800    ACTIVE   \n",
      "25  ACC026      Sita      F   30  01-JAN-23     9400    ACTIVE   \n",
      "26  ACC027     Arjun      M   44  02-FEB-22    17000  DEACTIVE   \n",
      "27  ACC028    Sunita      F    3  32-FEB-23    11000    ACTIVE   \n",
      "28  ACC029      Yash      M   99  03-MAR-22     8500    ACTIVE   \n",
      "29  ACC030  Priyanka    NaN   21  03-MAR-23     4900    ACTIVE   \n",
      "\n",
      "   Income_Category Initials     Joined Joined_PreviousYear  JoinedYear  \\\n",
      "0              Low       Ra 2020-01-01          2019-01-01        2020   \n",
      "1              Low       Ri 2021-01-01          2020-01-01        2021   \n",
      "2              Low       Am 2020-02-02          2019-02-02        2020   \n",
      "3              Low       Pr 2021-02-02          2020-02-02        2021   \n",
      "4              Low       Vi 2020-03-03          2019-03-03        2020   \n",
      "5              Low       So 2021-03-03          2020-03-03        2021   \n",
      "6              Low       Ra 2020-04-04          2019-04-04        2020   \n",
      "7              Low       Po 2021-04-04          2020-04-04        2021   \n",
      "8              Low       Su 2020-05-05          2019-05-05        2020   \n",
      "9              Low       An 2021-05-05          2020-05-05        2021   \n",
      "10             Low       Vi 2020-06-06          2019-06-06        2020   \n",
      "11             Low       Ne 2021-06-06          2020-06-06        2021   \n",
      "12             Low       Ro 2020-07-07          2019-07-07        2020   \n",
      "13             Low       Ai 2021-07-07          2020-07-07        2021   \n",
      "14             Low       Ma 2020-08-08          2019-08-08        2020   \n",
      "15             Low       Ki 2021-08-08          2020-08-08        2021   \n",
      "16             Low       Sa 2020-09-09          2019-09-09        2020   \n",
      "17             Low       Ra 2021-09-09          2020-09-09        2021   \n",
      "18          Medium       Aj 2020-10-10          2019-10-10        2020   \n",
      "19             Low       Se 2021-10-10          2020-10-10        2021   \n",
      "20             Low       At 2020-11-11          2019-11-11        2020   \n",
      "21             Low       Ni 2021-11-11          2020-11-11        2021   \n",
      "22             Low       Ka 2020-12-12          2019-12-12        2020   \n",
      "23             Low       Ni 2021-12-12          2020-12-12        2021   \n",
      "24             Low       De 2022-01-01          2021-01-01        2022   \n",
      "25             Low       Si 2023-01-01          2022-01-01        2023   \n",
      "26             Low       Ar 2022-02-02          2021-02-02        2022   \n",
      "27             Low       Su 2032-02-23          2031-02-23        2032   \n",
      "28             Low       Ya 2022-03-03          2021-03-03        2022   \n",
      "29             Low       Pr 2023-03-03          2022-03-03        2023   \n",
      "\n",
      "   JoinedYearMth  IsVIP  \n",
      "0        2020-01  False  \n",
      "1        2021-01  False  \n",
      "2        2020-02  False  \n",
      "3        2021-02  False  \n",
      "4        2020-03   True  \n",
      "5        2021-03  False  \n",
      "6        2020-04  False  \n",
      "7        2021-04  False  \n",
      "8        2020-05   True  \n",
      "9        2021-05   True  \n",
      "10       2020-06   True  \n",
      "11       2021-06  False  \n",
      "12       2020-07  False  \n",
      "13       2021-07  False  \n",
      "14       2020-08   True  \n",
      "15       2021-08   True  \n",
      "16       2020-09  False  \n",
      "17       2021-09  False  \n",
      "18       2020-10   True  \n",
      "19       2021-10   True  \n",
      "20       2020-11   True  \n",
      "21       2021-11  False  \n",
      "22       2020-12  False  \n",
      "23       2021-12  False  \n",
      "24       2022-01   True  \n",
      "25       2023-01  False  \n",
      "26       2022-02   True  \n",
      "27       2032-02  False  \n",
      "28       2022-03   True  \n",
      "29       2023-03  False  \n"
     ]
    }
   ],
   "source": [
    "data[\"IsVIP\"] = (data[\"Age\"] > 35) & (data[\"Balance\"] > 5000)\n",
    "\n",
    "print(data)"
   ]
  },
  {
   "cell_type": "markdown",
   "id": "2af9ce22",
   "metadata": {},
   "source": [
    "# Remember:\n",
    "\n",
    "Explore other pandas functionalities for more advanced transformations (e.g., missing value handling, merging/joining DataFrames).\n",
    "\n",
    "Adapt the examples to your specific data and desired transformations.\n",
    "\n",
    "\n",
    "By mastering these basic techniques, you can effectively manipulate and reshape your data from the CSV file for further analysis and reporting."
   ]
  }
 ],
 "metadata": {
  "kernelspec": {
   "display_name": "Python 3",
   "language": "python",
   "name": "python3"
  },
  "language_info": {
   "codemirror_mode": {
    "name": "ipython",
    "version": 3
   },
   "file_extension": ".py",
   "mimetype": "text/x-python",
   "name": "python",
   "nbconvert_exporter": "python",
   "pygments_lexer": "ipython3",
   "version": "3.8.8"
  }
 },
 "nbformat": 4,
 "nbformat_minor": 5
}
