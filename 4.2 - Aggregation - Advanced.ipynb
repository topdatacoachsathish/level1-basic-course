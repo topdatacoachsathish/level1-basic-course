{
 "cells": [
  {
   "cell_type": "markdown",
   "id": "2f326428",
   "metadata": {},
   "source": [
    "## 1. Import libraries and Load Data:\n",
    "\n"
   ]
  },
  {
   "cell_type": "code",
   "execution_count": 2,
   "id": "0daaf8f5",
   "metadata": {},
   "outputs": [
    {
     "name": "stdout",
     "output_type": "stream",
     "text": [
      "     AccID      Name Gender  Age    AccOpen  Balance AccStatus\n",
      "0   ACC001       Raj      M   30  01-JAN-20     5000    Active\n",
      "1   ACC002      Riya      F   29  01-JAN-21     8000  Inactive\n",
      "2   ACC003      Amit      M   35  02-FEB-20    12000    Active\n",
      "3   ACC004     Priya      F   28  02-FEB-21     4500    Active\n",
      "4   ACC005    Vikram      M   40  03-MAR-20     7800    Active\n",
      "5   ACC006     Sonia      F   32  03-MAR-21     9200  Inactive\n",
      "6   ACC007     Rahul      M   25  04-APR-20    10500    Active\n",
      "7   ACC008     Pooja      F   22  04-APR-21     3800    Active\n",
      "8   ACC009     Sunil      M   50  05-MAY-20    25000    Active\n",
      "9   ACC010    Anjali      F   45  05-MAY-21    18000    Active\n",
      "10  ACC011     Vivek      M   38  06-JUN-20    11200    Active\n",
      "11  ACC012      Neha      F   31  06-JUN-21     6700    Active\n",
      "12  ACC013     Rohit      M   27  07-JUL-20     9800    Active\n",
      "13  ACC014     Aisha      F   24  07-JUL-21     5200    Active\n",
      "14  ACC015    Manish      M   42  08-AUG-20    14000    Active\n",
      "15  ACC016     Kiara      F   36  08-AUG-21     7500    Active\n",
      "16  ACC017     Sagar      M   33  09-SEP-20     8900    Active\n",
      "17  ACC018      Rani      F   26  09-SEP-21     4100    Active\n",
      "18  ACC019      Ajay      M   55  10-OCT-20    32000    Active\n",
      "19  ACC020     Seema      F   48  10-OCT-21    21000    Active\n",
      "20  ACC021      Atul      M   41  11-NOV-20    13500    Active\n",
      "21  ACC022    Nikita      F   34  11-NOV-21     8100    Active\n",
      "22  ACC023     Kapil      M   29  12-DEC-20    10200    Active\n",
      "23  ACC024     Nisha      F   23  12-DEC-21     6000    Active\n",
      "24  ACC025    Deepak      M   37  01-JAN-22    15800    Active\n",
      "25  ACC026      Sita      F   30  01-JAN-23     9400    Active\n",
      "26  ACC027     Arjun      M   44  02-FEB-22    17000  DeActive\n",
      "27  ACC028    Sunita      F    3  32-FEB-23    11000    Active\n",
      "28  ACC029      Yash      M   99  03-MAR-22     8500    Active\n",
      "29  ACC030  Priyanka    NaN   21  03-MAR-23     4900    Active\n"
     ]
    }
   ],
   "source": [
    "import pandas as pd\n",
    "\n",
    "# Replace 'your_data.csv' with your actual file path\n",
    "data = pd.read_csv(\"Basic_data.csv\")\n",
    "\n",
    "\n",
    "print(data)"
   ]
  },
  {
   "cell_type": "markdown",
   "id": "b4cab484",
   "metadata": {},
   "source": [
    "## 2. Quantiles:\n",
    "\n",
    "quantile() calculates quantiles (percentiles) of a numeric column. Here, we find the quartiles which divide the data into four equal parts.\n"
   ]
  },
  {
   "cell_type": "code",
   "execution_count": 3,
   "id": "2a83f0d1",
   "metadata": {},
   "outputs": [
    {
     "name": "stdout",
     "output_type": "stream",
     "text": [
      "Balance Quartiles: 0.25     6900.0\n",
      "0.50     9300.0\n",
      "0.75    13125.0\n",
      "Name: Balance, dtype: float64\n"
     ]
    }
   ],
   "source": [
    "# Find quartiles (25th, 50th, 75th percentile) of account balance\n",
    "balance_quartiles = data[\"Balance\"].quantile([0.25, 0.5, 0.75])\n",
    "print(\"Balance Quartiles:\", balance_quartiles)\n"
   ]
  },
  {
   "cell_type": "markdown",
   "id": "b6d3eb3b",
   "metadata": {},
   "source": [
    "## 3. percentiles\n",
    "\n",
    "\n",
    "We can specify any percentile value (between 0 and 1) to find the corresponding value in the data distribution\n"
   ]
  },
  {
   "cell_type": "code",
   "execution_count": 4,
   "id": "9556887a",
   "metadata": {},
   "outputs": [
    {
     "name": "stdout",
     "output_type": "stream",
     "text": [
      "90th Percentile of Balance: 18300.000000000004\n"
     ]
    }
   ],
   "source": [
    "# Calculate the 90th percentile of account balance\n",
    "balance_90th = data[\"Balance\"].quantile(0.9)\n",
    "print(\"90th Percentile of Balance:\", balance_90th)\n",
    "\n"
   ]
  },
  {
   "cell_type": "markdown",
   "id": "77de218f",
   "metadata": {},
   "source": [
    "## 4.  Descriptive Statistics\n",
    "\n",
    "describe() provides various summary statistics like mean, standard deviation, minimum, maximum, and percentiles for numeric columns."
   ]
  },
  {
   "cell_type": "code",
   "execution_count": 5,
   "id": "a0ffdf49",
   "metadata": {},
   "outputs": [
    {
     "name": "stdout",
     "output_type": "stream",
     "text": [
      "Descriptive Statistics:             Balance        Age\n",
      "count     30.000000  30.000000\n",
      "mean   10953.333333  35.233333\n",
      "std     6464.744352  15.858607\n",
      "min     3800.000000   3.000000\n",
      "25%     6900.000000  27.250000\n",
      "50%     9300.000000  32.500000\n",
      "75%    13125.000000  40.750000\n",
      "max    32000.000000  99.000000\n"
     ]
    }
   ],
   "source": [
    "# Get descriptive statistics of numeric columns (Balance, Age in this case)\n",
    "balance_stats = data[[\"Balance\", \"Age\"]].describe()\n",
    "print(\"Descriptive Statistics:\", balance_stats)\n",
    "\n"
   ]
  },
  {
   "cell_type": "markdown",
   "id": "cc8585c3",
   "metadata": {},
   "source": [
    "## 5. Aggregation with Filtering\n",
    "\n",
    "We can filter data before aggregation using boolean indexing or conditions (here, selecting active accounts) and then perform aggregation on the filtered subset.\n"
   ]
  },
  {
   "cell_type": "code",
   "execution_count": 6,
   "id": "5c03c9cb",
   "metadata": {},
   "outputs": [
    {
     "name": "stdout",
     "output_type": "stream",
     "text": [
      "Average Balance (Active Accounts): 10903.703703703704\n"
     ]
    }
   ],
   "source": [
    "# Calculate average balance for active accounts only\n",
    "active_avg_balance = data[data[\"AccStatus\"] == \"Active\"][\"Balance\"].mean()\n",
    "print(\"Average Balance (Active Accounts):\", active_avg_balance)\n",
    "\n"
   ]
  },
  {
   "cell_type": "markdown",
   "id": "a4550f7a",
   "metadata": {},
   "source": [
    "### Considerations\n",
    "\n",
    "Explore other functionalities like rolling() for calculating moving statistics and corr() for correlation analysis between numeric columns.\n",
    "\n",
    "Handle missing values (NaN) appropriately before performing aggregations.\n",
    "\n",
    "\n",
    "By incorporating these advanced techniques, you can extract more comprehensive \n",
    "insights from your numeric data for informed decision-making."
   ]
  },
  {
   "cell_type": "code",
   "execution_count": null,
   "id": "58dcb0ef",
   "metadata": {},
   "outputs": [],
   "source": []
  }
 ],
 "metadata": {
  "kernelspec": {
   "display_name": "Python 3",
   "language": "python",
   "name": "python3"
  },
  "language_info": {
   "codemirror_mode": {
    "name": "ipython",
    "version": 3
   },
   "file_extension": ".py",
   "mimetype": "text/x-python",
   "name": "python",
   "nbconvert_exporter": "python",
   "pygments_lexer": "ipython3",
   "version": "3.8.8"
  }
 },
 "nbformat": 4,
 "nbformat_minor": 5
}
