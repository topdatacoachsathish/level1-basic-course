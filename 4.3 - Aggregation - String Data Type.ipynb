{
 "cells": [
  {
   "cell_type": "markdown",
   "id": "2f326428",
   "metadata": {},
   "source": [
    "## 1. Import libraries and Load Data:\n",
    "\n"
   ]
  },
  {
   "cell_type": "code",
   "execution_count": 2,
   "id": "0daaf8f5",
   "metadata": {},
   "outputs": [
    {
     "name": "stdout",
     "output_type": "stream",
     "text": [
      "     AccID      Name Gender  Age    AccOpen  Balance AccStatus\n",
      "0   ACC001       Raj      M   30  01-JAN-20     5000    Active\n",
      "1   ACC002      Riya      F   29  01-JAN-21     8000  Inactive\n",
      "2   ACC003      Amit      M   35  02-FEB-20    12000    Active\n",
      "3   ACC004     Priya      F   28  02-FEB-21     4500    Active\n",
      "4   ACC005    Vikram      M   40  03-MAR-20     7800    Active\n",
      "5   ACC006     Sonia      F   32  03-MAR-21     9200  Inactive\n",
      "6   ACC007     Rahul      M   25  04-APR-20    10500    Active\n",
      "7   ACC008     Pooja      F   22  04-APR-21     3800    Active\n",
      "8   ACC009     Sunil      M   50  05-MAY-20    25000    Active\n",
      "9   ACC010    Anjali      F   45  05-MAY-21    18000    Active\n",
      "10  ACC011     Vivek      M   38  06-JUN-20    11200    Active\n",
      "11  ACC012      Neha      F   31  06-JUN-21     6700    Active\n",
      "12  ACC013     Rohit      M   27  07-JUL-20     9800    Active\n",
      "13  ACC014     Aisha      F   24  07-JUL-21     5200    Active\n",
      "14  ACC015    Manish      M   42  08-AUG-20    14000    Active\n",
      "15  ACC016     Kiara      F   36  08-AUG-21     7500    Active\n",
      "16  ACC017     Sagar      M   33  09-SEP-20     8900    Active\n",
      "17  ACC018      Rani      F   26  09-SEP-21     4100    Active\n",
      "18  ACC019      Ajay      M   55  10-OCT-20    32000    Active\n",
      "19  ACC020     Seema      F   48  10-OCT-21    21000    Active\n",
      "20  ACC021      Atul      M   41  11-NOV-20    13500    Active\n",
      "21  ACC022    Nikita      F   34  11-NOV-21     8100    Active\n",
      "22  ACC023     Kapil      M   29  12-DEC-20    10200    Active\n",
      "23  ACC024     Nisha      F   23  12-DEC-21     6000    Active\n",
      "24  ACC025    Deepak      M   37  01-JAN-22    15800    Active\n",
      "25  ACC026      Sita      F   30  01-JAN-23     9400    Active\n",
      "26  ACC027     Arjun      M   44  02-FEB-22    17000  DeActive\n",
      "27  ACC028    Sunita      F    3  32-FEB-23    11000    Active\n",
      "28  ACC029      Yash      M   99  03-MAR-22     8500    Active\n",
      "29  ACC030  Priyanka    NaN   21  03-MAR-23     4900    Active\n"
     ]
    }
   ],
   "source": [
    "import pandas as pd\n",
    "\n",
    "# Replace 'your_data.csv' with your actual file path\n",
    "data = pd.read_csv(\"Basic_data.csv\")\n",
    "\n",
    "\n",
    "print(data)"
   ]
  },
  {
   "cell_type": "markdown",
   "id": "b4cab484",
   "metadata": {},
   "source": [
    "## 2. Concatenation\n",
    "\n",
    "str.cat() allows string concatenation within a Series/DataFrame. Here, we combine Name and Gender with a space separator.\n"
   ]
  },
  {
   "cell_type": "code",
   "execution_count": 3,
   "id": "2a83f0d1",
   "metadata": {},
   "outputs": [
    {
     "name": "stdout",
     "output_type": "stream",
     "text": [
      "     Name Gender Full Name\n",
      "0     Raj      M     Raj M\n",
      "1    Riya      F    Riya F\n",
      "2    Amit      M    Amit M\n",
      "3   Priya      F   Priya F\n",
      "4  Vikram      M  Vikram M\n"
     ]
    }
   ],
   "source": [
    "# Combine first and last name into a full name column\n",
    "data[\"Full Name\"] = data[\"Name\"].str.cat(data[\"Gender\"], sep=\" \")\n",
    "print(data[[\"Name\", \"Gender\", \"Full Name\"]].head())\n",
    "\n"
   ]
  },
  {
   "cell_type": "markdown",
   "id": "b6d3eb3b",
   "metadata": {},
   "source": [
    "## 3. Counting Unique Values\n",
    "\n",
    "\n"
   ]
  },
  {
   "cell_type": "code",
   "execution_count": 4,
   "id": "9556887a",
   "metadata": {},
   "outputs": [
    {
     "name": "stdout",
     "output_type": "stream",
     "text": [
      "Number of Unique Genders: 2\n"
     ]
    }
   ],
   "source": [
    "# Count the number of unique genders in the data\n",
    "unique_genders = data[\"Gender\"].nunique()\n",
    "print(\"Number of Unique Genders:\", unique_genders)\n",
    "\n"
   ]
  },
  {
   "cell_type": "markdown",
   "id": "77de218f",
   "metadata": {},
   "source": [
    "## 4.   Finding Most Frequent Values\n",
    "\n",
    "nunique() counts the number of unique elements in a string column.\n",
    "mode() identifies the most frequent value(s) in a string column."
   ]
  },
  {
   "cell_type": "code",
   "execution_count": 5,
   "id": "a0ffdf49",
   "metadata": {},
   "outputs": [
    {
     "name": "stdout",
     "output_type": "stream",
     "text": [
      "Most Frequent Account Status: Active\n"
     ]
    }
   ],
   "source": [
    "# Get the most frequent account status\n",
    "most_frequent_status = data[\"AccStatus\"].mode()[0]\n",
    "print(\"Most Frequent Account Status:\", most_frequent_status)\n",
    "\n"
   ]
  },
  {
   "cell_type": "markdown",
   "id": "cc8585c3",
   "metadata": {},
   "source": [
    "## 5. Applying Custom Functions\n",
    "\n",
    "We define a custom function name_length to calculate the length of each name (excluding whitespaces).\n",
    "\n",
    "apply() applies this function to each element in the \"Name\" column, creating a new \"Name Length\" column."
   ]
  },
  {
   "cell_type": "code",
   "execution_count": 7,
   "id": "5c03c9cb",
   "metadata": {},
   "outputs": [
    {
     "name": "stdout",
     "output_type": "stream",
     "text": [
      "     Name  Name Length\n",
      "0     Raj            3\n",
      "1    Riya            4\n",
      "2    Amit            4\n",
      "3   Priya            5\n",
      "4  Vikram            6\n"
     ]
    }
   ],
   "source": [
    "def name_length(name):\n",
    "  \"\"\"Calculates the length of a name (excluding whitespaces)\"\"\"\n",
    "  return len(name.strip())\n",
    "\n",
    "data[\"Name Length\"] = data[\"Name\"].apply(name_length)\n",
    "print(data[[\"Name\", \"Name Length\"]].head())\n",
    "\n"
   ]
  },
  {
   "cell_type": "markdown",
   "id": "a4550f7a",
   "metadata": {},
   "source": [
    "### Considerations\n",
    "\n",
    "Explore text cleaning techniques like str.lower(), str.upper(), and regular expressions for more advanced string manipulation.\n",
    "\n",
    "Handle missing values (NaN) appropriately before performing string aggregations.\n",
    "\n",
    "\n",
    "By effectively using these techniques, you can transform and summarize your string data to gain valuable insights from your CSV file."
   ]
  }
 ],
 "metadata": {
  "kernelspec": {
   "display_name": "Python 3",
   "language": "python",
   "name": "python3"
  },
  "language_info": {
   "codemirror_mode": {
    "name": "ipython",
    "version": 3
   },
   "file_extension": ".py",
   "mimetype": "text/x-python",
   "name": "python",
   "nbconvert_exporter": "python",
   "pygments_lexer": "ipython3",
   "version": "3.8.8"
  }
 },
 "nbformat": 4,
 "nbformat_minor": 5
}
