{
 "cells": [
  {
   "cell_type": "markdown",
   "id": "2f326428",
   "metadata": {},
   "source": [
    "## 1. Numeric Data:\n",
    "\n",
    "Method: Utilize comparison operators (<, >, <=, >=, ==, !=) and boolean indexing.\n"
   ]
  },
  {
   "cell_type": "code",
   "execution_count": 2,
   "id": "0daaf8f5",
   "metadata": {},
   "outputs": [
    {
     "name": "stdout",
     "output_type": "stream",
     "text": [
      "   ID  Age  Balance\n",
      "0   1   25     5000\n",
      "1   2   30     8000\n",
      "2   3   28    12000\n",
      "3   4   32     4500\n"
     ]
    }
   ],
   "source": [
    "import pandas as pd\n",
    "\n",
    "# Sample data (replace with your CSV data)\n",
    "data = {\n",
    "    'ID': [1, 2, 3, 4],\n",
    "    'Age': [25, 30, 28, 32],\n",
    "    'Balance': [5000, 8000, 12000, 4500],\n",
    "}\n",
    "\n",
    "df = pd.DataFrame(data)\n",
    "\n",
    "\n",
    "print(df)"
   ]
  },
  {
   "cell_type": "code",
   "execution_count": 3,
   "id": "a15957e6",
   "metadata": {},
   "outputs": [
    {
     "name": "stdout",
     "output_type": "stream",
     "text": [
      "   ID  Age  Balance\n",
      "3   4   32     4500\n"
     ]
    }
   ],
   "source": [
    "# Filter rows where Age is greater than 30 and Balance is less than 10000\n",
    "filtered_df = df[(df['Age'] > 30) & (df['Balance'] < 10000)]\n",
    "print(filtered_df)"
   ]
  },
  {
   "cell_type": "markdown",
   "id": "b4cab484",
   "metadata": {},
   "source": [
    "## 2. String Data:\n",
    "\n",
    "Method: Use string filtering methods like \n",
    "\n",
    "str.contains(), \n",
    "\n",
    "str.startswith(), \n",
    "\n",
    "str.endswith(), \n",
    "\n",
    "regular expressions, or \n",
    "\n",
    "boolean indexing with string comparisons. \n"
   ]
  },
  {
   "cell_type": "code",
   "execution_count": 6,
   "id": "2a83f0d1",
   "metadata": {},
   "outputs": [
    {
     "name": "stdout",
     "output_type": "stream",
     "text": [
      "     AccID    Name Gender  Age    AccOpen  Balance AccStatus\n",
      "2   ACC003    Amit      M   35  02-FEB-20    12000    Active\n",
      "5   ACC006   Sonia      F   32  03-MAR-21     9200  Inactive\n",
      "8   ACC009   Sunil      M   50  05-MAY-20    25000    Active\n",
      "9   ACC010  Anjali      F   45  05-MAY-21    18000    Active\n",
      "13  ACC014   Aisha      F   24  07-JUL-21     5200    Active\n",
      "16  ACC017   Sagar      M   33  09-SEP-20     8900    Active\n",
      "18  ACC019    Ajay      M   55  10-OCT-20    32000    Active\n",
      "19  ACC020   Seema      F   48  10-OCT-21    21000    Active\n",
      "20  ACC021    Atul      M   41  11-NOV-20    13500    Active\n",
      "25  ACC026    Sita      F   30  01-JAN-23     9400    Active\n",
      "26  ACC027   Arjun      M   44  02-FEB-22    17000  DeActive\n",
      "27  ACC028  Sunita      F    3  32-FEB-23    11000    Active\n"
     ]
    }
   ],
   "source": [
    "import pandas as pd\n",
    "\n",
    "# Read the CSV data\n",
    "df = pd.read_csv(\"Basic_data.csv\")\n",
    "\n",
    "filtered_df = df[df['Name'].str.startswith(('A', 'S'))]\n",
    "print(filtered_df)\n"
   ]
  },
  {
   "cell_type": "markdown",
   "id": "b6d3eb3b",
   "metadata": {},
   "source": [
    "## 3. Date Data:\n",
    "\n",
    "Method: Leverage pandas' datetime functionalities like dt.year, dt.month, date ranges, and boolean indexing."
   ]
  },
  {
   "cell_type": "code",
   "execution_count": 11,
   "id": "9556887a",
   "metadata": {},
   "outputs": [
    {
     "name": "stdout",
     "output_type": "stream",
     "text": [
      "     AccID    Name Gender  Age    AccOpen  Balance AccStatus\n",
      "24  ACC025  Deepak      M   37 2022-01-01    15800    Active\n",
      "26  ACC027   Arjun      M   44 2022-02-02    17000  DeActive\n",
      "28  ACC029    Yash      M   99 2022-03-03     8500    Active\n"
     ]
    }
   ],
   "source": [
    "import pandas as pd\n",
    "\n",
    "# Read the CSV data\n",
    "df = pd.read_csv(\"Basic_data.csv\")\n",
    "\n",
    "# Convert 'AccOpen' to datetime (assuming a 'Date' column)\n",
    "df['AccOpen'] = pd.to_datetime(df['AccOpen'])\n",
    "\n",
    "# Filter rows where 'Date' is within the year 2022\n",
    "filtered_df = df[(df['AccOpen'].dt.year == 2022)]\n",
    "print(filtered_df)\n"
   ]
  },
  {
   "cell_type": "code",
   "execution_count": null,
   "id": "7a869389",
   "metadata": {},
   "outputs": [],
   "source": []
  }
 ],
 "metadata": {
  "kernelspec": {
   "display_name": "Python 3",
   "language": "python",
   "name": "python3"
  },
  "language_info": {
   "codemirror_mode": {
    "name": "ipython",
    "version": 3
   },
   "file_extension": ".py",
   "mimetype": "text/x-python",
   "name": "python",
   "nbconvert_exporter": "python",
   "pygments_lexer": "ipython3",
   "version": "3.8.8"
  }
 },
 "nbformat": 4,
 "nbformat_minor": 5
}
