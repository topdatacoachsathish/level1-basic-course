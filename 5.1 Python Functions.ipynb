{
 "cells": [
  {
   "cell_type": "markdown",
   "id": "2f326428",
   "metadata": {},
   "source": [
    "## 1. Import libraries and Load Data:\n",
    "\n",
    "We convert the 'AccOpen' column from strings to datetime format using pd.to_datetime() for date-based operations.\n"
   ]
  },
  {
   "cell_type": "code",
   "execution_count": 2,
   "id": "0daaf8f5",
   "metadata": {},
   "outputs": [
    {
     "name": "stdout",
     "output_type": "stream",
     "text": [
      "     AccID      Name Gender  Age    AccOpen  Balance AccStatus\n",
      "0   ACC001       Raj      M   30 2020-01-01     5000    Active\n",
      "1   ACC002      Riya      F   29 2021-01-01     8000  Inactive\n",
      "2   ACC003      Amit      M   35 2020-02-02    12000    Active\n",
      "3   ACC004     Priya      F   28 2021-02-02     4500    Active\n",
      "4   ACC005    Vikram      M   40 2020-03-03     7800    Active\n",
      "5   ACC006     Sonia      F   32 2021-03-03     9200  Inactive\n",
      "6   ACC007     Rahul      M   25 2020-04-04    10500    Active\n",
      "7   ACC008     Pooja      F   22 2021-04-04     3800    Active\n",
      "8   ACC009     Sunil      M   50 2020-05-05    25000    Active\n",
      "9   ACC010    Anjali      F   45 2021-05-05    18000    Active\n",
      "10  ACC011     Vivek      M   38 2020-06-06    11200    Active\n",
      "11  ACC012      Neha      F   31 2021-06-06     6700    Active\n",
      "12  ACC013     Rohit      M   27 2020-07-07     9800    Active\n",
      "13  ACC014     Aisha      F   24 2021-07-07     5200    Active\n",
      "14  ACC015    Manish      M   42 2020-08-08    14000    Active\n",
      "15  ACC016     Kiara      F   36 2021-08-08     7500    Active\n",
      "16  ACC017     Sagar      M   33 2020-09-09     8900    Active\n",
      "17  ACC018      Rani      F   26 2021-09-09     4100    Active\n",
      "18  ACC019      Ajay      M   55 2020-10-10    32000    Active\n",
      "19  ACC020     Seema      F   48 2021-10-10    21000    Active\n",
      "20  ACC021      Atul      M   41 2020-11-11    13500    Active\n",
      "21  ACC022    Nikita      F   34 2021-11-11     8100    Active\n",
      "22  ACC023     Kapil      M   29 2020-12-12    10200    Active\n",
      "23  ACC024     Nisha      F   23 2021-12-12     6000    Active\n",
      "24  ACC025    Deepak      M   37 2022-01-01    15800    Active\n",
      "25  ACC026      Sita      F   30 2023-01-01     9400    Active\n",
      "26  ACC027     Arjun      M   44 2022-02-02    17000  DeActive\n",
      "27  ACC028    Sunita      F    3 2032-02-23    11000    Active\n",
      "28  ACC029      Yash      M   99 2022-03-03     8500    Active\n",
      "29  ACC030  Priyanka    NaN   21 2023-03-03     4900    Active\n"
     ]
    }
   ],
   "source": [
    "import pandas as pd\n",
    "\n",
    "# Replace 'your_data.csv' with your actual file path\n",
    "data = pd.read_csv(\"Basic_data.csv\")\n",
    "\n",
    "# Assuming 'AccOpen' is a string in 'DD-MON-YYYY' format\n",
    "data[\"AccOpen\"] = pd.to_datetime(data[\"AccOpen\"])\n",
    "\n",
    "\n",
    "print(data)"
   ]
  },
  {
   "cell_type": "markdown",
   "id": "b4cab484",
   "metadata": {},
   "source": [
    "## 2.  Filtering Data with a Custom Function\n",
    "\n",
    "We define a custom function is_high_balance to check if a balance exceeds a threshold.\n",
    "\n",
    "apply() applies this function to each element in the \"Balance\" column, creating a boolean Series.\n",
    "\n",
    "We then filter the original data (data) using this boolean Series to get accounts with high balance.\n",
    "\n"
   ]
  },
  {
   "cell_type": "code",
   "execution_count": 3,
   "id": "2a83f0d1",
   "metadata": {},
   "outputs": [
    {
     "name": "stdout",
     "output_type": "stream",
     "text": [
      "     AccID    Name Gender  Age    AccOpen  Balance AccStatus\n",
      "2   ACC003    Amit      M   35 2020-02-02    12000    Active\n",
      "6   ACC007   Rahul      M   25 2020-04-04    10500    Active\n",
      "8   ACC009   Sunil      M   50 2020-05-05    25000    Active\n",
      "9   ACC010  Anjali      F   45 2021-05-05    18000    Active\n",
      "10  ACC011   Vivek      M   38 2020-06-06    11200    Active\n",
      "14  ACC015  Manish      M   42 2020-08-08    14000    Active\n",
      "18  ACC019    Ajay      M   55 2020-10-10    32000    Active\n",
      "19  ACC020   Seema      F   48 2021-10-10    21000    Active\n",
      "20  ACC021    Atul      M   41 2020-11-11    13500    Active\n",
      "22  ACC023   Kapil      M   29 2020-12-12    10200    Active\n",
      "24  ACC025  Deepak      M   37 2022-01-01    15800    Active\n",
      "26  ACC027   Arjun      M   44 2022-02-02    17000  DeActive\n",
      "27  ACC028  Sunita      F    3 2032-02-23    11000    Active\n"
     ]
    }
   ],
   "source": [
    "def is_high_balance(balance):\n",
    "  \"\"\"Defines a threshold for high balance accounts\"\"\"\n",
    "  return balance > 10000\n",
    "\n",
    "high_balance_data = data[data[\"Balance\"].apply(is_high_balance)]\n",
    "print(high_balance_data)\n",
    "\n"
   ]
  },
  {
   "cell_type": "markdown",
   "id": "b6d3eb3b",
   "metadata": {},
   "source": [
    "## 3. Replacing Missing Values\n",
    "\n",
    "\n",
    "fillna() replaces missing values (often indicated by NaN) with a specified value (\"Unknown\" in this case).\n",
    "\n",
    "unique() shows the unique values present in the \"Name\" column after filling missing values."
   ]
  },
  {
   "cell_type": "code",
   "execution_count": 4,
   "id": "9556887a",
   "metadata": {},
   "outputs": [
    {
     "name": "stdout",
     "output_type": "stream",
     "text": [
      "['Raj' 'Riya' 'Amit' 'Priya' 'Vikram' 'Sonia' 'Rahul' 'Pooja' 'Sunil'\n",
      " 'Anjali' 'Vivek' 'Neha' 'Rohit' 'Aisha' 'Manish' 'Kiara' 'Sagar' 'Rani'\n",
      " 'Ajay' 'Seema' 'Atul' 'Nikita' 'Kapil' 'Nisha' 'Deepak' 'Sita' 'Arjun'\n",
      " 'Sunita' 'Yash' 'Priyanka']\n"
     ]
    }
   ],
   "source": [
    "# Assuming 'Name' has missing values (indicated by '')\n",
    "data[\"Name\"] = data[\"Name\"].fillna(\"Unknown\")\n",
    "print(data[\"Name\"].unique())\n",
    "\n",
    "\n"
   ]
  },
  {
   "cell_type": "markdown",
   "id": "77de218f",
   "metadata": {},
   "source": [
    "## 4. Creating New Features\n",
    "\n",
    "We define a custom function get_age_group to categorize age into groups based on conditions.\n",
    "\n",
    "apply() applies this function to each element in the \"Age\" column, creating a new \"Age Group\" column.\n"
   ]
  },
  {
   "cell_type": "code",
   "execution_count": 5,
   "id": "a0ffdf49",
   "metadata": {},
   "outputs": [
    {
     "name": "stdout",
     "output_type": "stream",
     "text": [
      "   Age    Age Group\n",
      "0   30  Middle Aged\n",
      "1   29        Young\n",
      "2   35  Middle Aged\n",
      "3   28        Young\n",
      "4   40  Middle Aged\n"
     ]
    }
   ],
   "source": [
    "def get_age_group(age):\n",
    "  \"\"\"Categorizes age into groups\"\"\"\n",
    "  if age < 30:\n",
    "    return \"Young\"\n",
    "  elif age < 50:\n",
    "    return \"Middle Aged\"\n",
    "  else:\n",
    "    return \"Senior\"\n",
    "\n",
    "data[\"Age Group\"] = data[\"Age\"].apply(get_age_group)\n",
    "print(data[[\"Age\", \"Age Group\"]].head())\n",
    "\n"
   ]
  },
  {
   "cell_type": "markdown",
   "id": "b37fc0e8",
   "metadata": {},
   "source": [
    "## 5. Lambda function for Simple Operations\n",
    "\n",
    "We use a lambda function (anonymous function) to square the values in the \"Balance\" column and create a new \"Balance_Squared\" column.\n",
    "\n",
    "Lambda functions offer a concise way for short, one-line operations.\n"
   ]
  },
  {
   "cell_type": "code",
   "execution_count": 8,
   "id": "4d693c8f",
   "metadata": {},
   "outputs": [
    {
     "name": "stdout",
     "output_type": "stream",
     "text": [
      "   Balance  Balance_Squared\n",
      "0     5000         25000000\n",
      "1     8000         64000000\n",
      "2    12000        144000000\n",
      "3     4500         20250000\n",
      "4     7800         60840000\n"
     ]
    }
   ],
   "source": [
    "data[\"Balance_Squared\"] = data[\"Balance\"].apply(lambda x: x**2)\n",
    "print(data[[\"Balance\", \"Balance_Squared\"]].head())\n"
   ]
  },
  {
   "cell_type": "markdown",
   "id": "cc8585c3",
   "metadata": {},
   "source": [
    "## 6. Combining Functions for Complex Tasks\n",
    "\n",
    "We define a function get_active_accounts_average_balance that takes the data as input.\n",
    "It filters for active accounts, calculates the average balance, and returns the result.\n",
    "We use data.copy() to avoid modifying the original data within the function."
   ]
  },
  {
   "cell_type": "code",
   "execution_count": 9,
   "id": "5c03c9cb",
   "metadata": {},
   "outputs": [
    {
     "name": "stdout",
     "output_type": "stream",
     "text": [
      "Average Balance (Active Accounts): 10903.703703703704\n"
     ]
    }
   ],
   "source": [
    "def get_active_accounts_average_balance(data):\n",
    "  \"\"\"Calculates average balance for active accounts\"\"\"\n",
    "  active_data = data[data[\"AccStatus\"] == \"Active\"]\n",
    "  return active_data[\"Balance\"].mean()\n",
    "\n",
    "average_balance = get_active_accounts_average_balance(data.copy())\n",
    "print(\"Average Balance (Active Accounts):\", average_balance)\n"
   ]
  },
  {
   "cell_type": "markdown",
   "id": "a4550f7a",
   "metadata": {},
   "source": [
    "### Considerations\n",
    "\n",
    "Remember to replace \"Basic_data.csv\" with your actual file path when using these examples in your code.\n",
    "\n",
    "By mastering these functions, you can effectively manipulate, transform, and analyze your CSV data for better insights."
   ]
  }
 ],
 "metadata": {
  "kernelspec": {
   "display_name": "Python 3",
   "language": "python",
   "name": "python3"
  },
  "language_info": {
   "codemirror_mode": {
    "name": "ipython",
    "version": 3
   },
   "file_extension": ".py",
   "mimetype": "text/x-python",
   "name": "python",
   "nbconvert_exporter": "python",
   "pygments_lexer": "ipython3",
   "version": "3.8.8"
  }
 },
 "nbformat": 4,
 "nbformat_minor": 5
}
