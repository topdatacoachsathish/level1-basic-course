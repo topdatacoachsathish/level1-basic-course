{
 "cells": [
  {
   "cell_type": "markdown",
   "id": "977c2c98",
   "metadata": {},
   "source": [
    "# CSV - Processing\n"
   ]
  },
  {
   "cell_type": "markdown",
   "id": "dc8ae361",
   "metadata": {},
   "source": [
    "## CSV Reading - CSV method\n",
    "\n",
    "Advantages:\n",
    "\n",
    "Simple and built-in, no external library installation required.\n",
    "\n",
    "Flexible with various reading modes ('r', 'w', 'a') and delimiters.\n",
    "\n",
    "Suitable for smaller datasets or quick data exploration.\n",
    "\n",
    "\n",
    "Considerations:\n",
    "\n",
    "Limited functionality for advanced tasks like data manipulation or error handling."
   ]
  },
  {
   "cell_type": "code",
   "execution_count": 6,
   "id": "baafb67d",
   "metadata": {},
   "outputs": [
    {
     "name": "stdout",
     "output_type": "stream",
     "text": [
      "['AccID', 'Name', 'Gender', 'Age', 'AccOpen', 'Balance', 'AccStatus']\n",
      "['ACC001', 'Raj', 'M', '30', '01-JAN-20', '5000', 'Active']\n",
      "['ACC002', 'Riya', 'F', '29', '01-JAN-21', '8000', 'Inactive']\n",
      "['ACC003', 'Amit', 'M', '35', '02-FEB-20', '12000', 'Active']\n",
      "['ACC004', 'Priya', 'F', '28', '02-FEB-21', '4500', 'Active']\n",
      "['ACC005', 'Vikram', 'M', '40', '03-MAR-20', '7800', 'Active']\n",
      "['ACC006', 'Sonia', 'F', '32', '03-MAR-21', '9200', 'Inactive']\n",
      "['ACC007', 'Rahul', 'M', '25', '04-APR-20', '10500', 'Active']\n",
      "['ACC008', 'Pooja', 'F', '22', '04-APR-21', '3800', 'Active']\n",
      "['ACC009', 'Sunil', 'M', '50', '05-MAY-20', '25000', 'Active']\n",
      "['ACC010', 'Anjali', 'F', '45', '05-MAY-21', '18000', 'Active']\n",
      "['ACC011', 'Vivek', 'M', '38', '06-JUN-20', '11200', 'Active']\n",
      "['ACC012', 'Neha', 'F', '31', '06-JUN-21', '6700', 'Active']\n",
      "['ACC013', 'Rohit', 'M', '27', '07-JUL-20', '9800', 'Active']\n",
      "['ACC014', 'Aisha', 'F', '24', '07-JUL-21', '5200', 'Active']\n",
      "['ACC015', 'Manish', 'M', '42', '08-AUG-20', '14000', 'Active']\n",
      "['ACC016', 'Kiara', 'F', '36', '08-AUG-21', '7500', 'Active']\n",
      "['ACC017', 'Sagar', 'M', '33', '09-SEP-20', '8900', 'Active']\n",
      "['ACC018', 'Rani', 'F', '26', '09-SEP-21', '4100', 'Active']\n",
      "['ACC019', 'Ajay', 'M', '55', '10-OCT-20', '32000', 'Active']\n",
      "['ACC020', 'Seema', 'F', '48', '10-OCT-21', '21000', 'Active']\n",
      "['ACC021', 'Atul', 'M', '41', '11-NOV-20', '13500', 'Active']\n",
      "['ACC022', 'Nikita', 'F', '34', '11-NOV-21', '8100', 'Active']\n",
      "['ACC023', 'Kapil', 'M', '29', '12-DEC-20', '10200', 'Active']\n",
      "['ACC024', 'Nisha', 'F', '23', '12-DEC-21', '6000', 'Active']\n",
      "['ACC025', 'Deepak', 'M', '37', '01-JAN-22', '15800', 'Active']\n",
      "['ACC026', 'Sita', 'F', '30', '01-JAN-23', '9400', 'Active']\n",
      "['ACC027', 'Arjun', 'M', '44', '02-FEB-22', '17000', 'Active']\n",
      "['ACC028', 'Sunita', 'F', '39', '02-FEB-23', '11000', 'Active']\n",
      "['ACC029', 'Yash', 'M', '26', '03-MAR-22', '8500', 'Active']\n",
      "['ACC030', 'Priyanka', 'F', '21', '03-MAR-23', '4900', 'Active']\n"
     ]
    }
   ],
   "source": [
    "import csv\n",
    "\n",
    "with open(\"Basic_data.csv\", \"r\") as csvfile:\n",
    "    reader = csv.reader(csvfile)\n",
    "    for row in reader:\n",
    "        # Access data in each row\n",
    "        print(row)\n"
   ]
  },
  {
   "cell_type": "markdown",
   "id": "92194671",
   "metadata": {},
   "source": [
    "## CSV Reading - Pandas method\n",
    "\n",
    "Advantages:\n",
    "\n",
    "Powerful for data manipulation, cleaning, and analysis.\n",
    "\n",
    "Offers data structures like DataFrames for efficient handling of tabular data.\n",
    "\n",
    "Reads large datasets efficiently and handles missing values.\n",
    "\n",
    "\n",
    "Considerations:\n",
    "\n",
    "Requires installing the pandas library.\n",
    "\n",
    "May be overkill for simple data retrieval tasks."
   ]
  },
  {
   "cell_type": "code",
   "execution_count": 7,
   "id": "9ddfec28",
   "metadata": {},
   "outputs": [
    {
     "name": "stdout",
     "output_type": "stream",
     "text": [
      "0          Raj\n",
      "1         Riya\n",
      "2         Amit\n",
      "3        Priya\n",
      "4       Vikram\n",
      "5        Sonia\n",
      "6        Rahul\n",
      "7        Pooja\n",
      "8        Sunil\n",
      "9       Anjali\n",
      "10       Vivek\n",
      "11        Neha\n",
      "12       Rohit\n",
      "13       Aisha\n",
      "14      Manish\n",
      "15       Kiara\n",
      "16       Sagar\n",
      "17        Rani\n",
      "18        Ajay\n",
      "19       Seema\n",
      "20        Atul\n",
      "21      Nikita\n",
      "22       Kapil\n",
      "23       Nisha\n",
      "24      Deepak\n",
      "25        Sita\n",
      "26       Arjun\n",
      "27      Sunita\n",
      "28        Yash\n",
      "29    Priyanka\n",
      "Name: Name, dtype: object\n"
     ]
    }
   ],
   "source": [
    "import pandas as pd\n",
    "\n",
    "data = pd.read_csv(\"Basic_data.csv\")\n",
    "# Access data by column names\n",
    "print(data[\"Name\"])\n"
   ]
  },
  {
   "cell_type": "markdown",
   "id": "182aaa12",
   "metadata": {},
   "source": [
    "## CSV Reading - Numpy method\n",
    "\n",
    "Advantages:\n",
    "\n",
    "Efficient for reading CSV data into NumPy arrays, ideal for numerical computations.\n",
    "\n",
    "Handles various data types and delimiters.\n",
    "\n",
    "Good option for integrating with other NumPy operations.\n",
    "\n",
    "\n",
    "Considerations:\n",
    "\n",
    "Requires installing the NumPy library.\n",
    "\n",
    "Data is returned as a NumPy array, which might require conversion for further analysis."
   ]
  },
  {
   "cell_type": "code",
   "execution_count": 9,
   "id": "9827dc73",
   "metadata": {},
   "outputs": [
    {
     "name": "stdout",
     "output_type": "stream",
     "text": [
      "[[     nan      nan      nan 3.00e+01      nan 5.00e+03      nan]\n",
      " [     nan      nan      nan 2.90e+01      nan 8.00e+03      nan]\n",
      " [     nan      nan      nan 3.50e+01      nan 1.20e+04      nan]\n",
      " [     nan      nan      nan 2.80e+01      nan 4.50e+03      nan]\n",
      " [     nan      nan      nan 4.00e+01      nan 7.80e+03      nan]\n",
      " [     nan      nan      nan 3.20e+01      nan 9.20e+03      nan]\n",
      " [     nan      nan      nan 2.50e+01      nan 1.05e+04      nan]\n",
      " [     nan      nan      nan 2.20e+01      nan 3.80e+03      nan]\n",
      " [     nan      nan      nan 5.00e+01      nan 2.50e+04      nan]\n",
      " [     nan      nan      nan 4.50e+01      nan 1.80e+04      nan]\n",
      " [     nan      nan      nan 3.80e+01      nan 1.12e+04      nan]\n",
      " [     nan      nan      nan 3.10e+01      nan 6.70e+03      nan]\n",
      " [     nan      nan      nan 2.70e+01      nan 9.80e+03      nan]\n",
      " [     nan      nan      nan 2.40e+01      nan 5.20e+03      nan]\n",
      " [     nan      nan      nan 4.20e+01      nan 1.40e+04      nan]\n",
      " [     nan      nan      nan 3.60e+01      nan 7.50e+03      nan]\n",
      " [     nan      nan      nan 3.30e+01      nan 8.90e+03      nan]\n",
      " [     nan      nan      nan 2.60e+01      nan 4.10e+03      nan]\n",
      " [     nan      nan      nan 5.50e+01      nan 3.20e+04      nan]\n",
      " [     nan      nan      nan 4.80e+01      nan 2.10e+04      nan]\n",
      " [     nan      nan      nan 4.10e+01      nan 1.35e+04      nan]\n",
      " [     nan      nan      nan 3.40e+01      nan 8.10e+03      nan]\n",
      " [     nan      nan      nan 2.90e+01      nan 1.02e+04      nan]\n",
      " [     nan      nan      nan 2.30e+01      nan 6.00e+03      nan]\n",
      " [     nan      nan      nan 3.70e+01      nan 1.58e+04      nan]\n",
      " [     nan      nan      nan 3.00e+01      nan 9.40e+03      nan]\n",
      " [     nan      nan      nan 4.40e+01      nan 1.70e+04      nan]\n",
      " [     nan      nan      nan 3.90e+01      nan 1.10e+04      nan]\n",
      " [     nan      nan      nan 2.60e+01      nan 8.50e+03      nan]\n",
      " [     nan      nan      nan 2.10e+01      nan 4.90e+03      nan]]\n"
     ]
    }
   ],
   "source": [
    "import numpy as np\n",
    "\n",
    "data = np.genfromtxt(\"Basic_data.csv\", delimiter=\",\", skip_header=1)  # Adjust parameters as needed\n",
    "# Access data as a NumPy array\n",
    "print(data)\n"
   ]
  },
  {
   "cell_type": "markdown",
   "id": "f89af9f6",
   "metadata": {},
   "source": [
    "## Choosing the Right Method:\n",
    "\n",
    "Small datasets and simple retrieval: csv module.\n",
    "\n",
    "Large datasets, complex manipulation, and analysis: pandas.\n",
    "\n",
    "Numerical computations and integration with NumPy: NumPy genfromtxt."
   ]
  },
  {
   "cell_type": "markdown",
   "id": "cd8dfc64",
   "metadata": {},
   "source": [
    "# Data Retrieval Methods\n"
   ]
  },
  {
   "cell_type": "markdown",
   "id": "60f48af7",
   "metadata": {},
   "source": [
    "## Column Retrieval\n",
    "This code snippet filters the DataFrame data to include only the columns \"Name\", \"Age\", and \"Balance\". It then displays the filtered DataFrame."
   ]
  },
  {
   "cell_type": "code",
   "execution_count": 11,
   "id": "c4d82898",
   "metadata": {},
   "outputs": [
    {
     "name": "stdout",
     "output_type": "stream",
     "text": [
      "Filtered Columns (Name, Age, Balance):\n",
      "        Name  Age  Balance\n",
      "0        Raj   30     5000\n",
      "1       Riya   29     8000\n",
      "2       Amit   35    12000\n",
      "3      Priya   28     4500\n",
      "4     Vikram   40     7800\n",
      "5      Sonia   32     9200\n",
      "6      Rahul   25    10500\n",
      "7      Pooja   22     3800\n",
      "8      Sunil   50    25000\n",
      "9     Anjali   45    18000\n",
      "10     Vivek   38    11200\n",
      "11      Neha   31     6700\n",
      "12     Rohit   27     9800\n",
      "13     Aisha   24     5200\n",
      "14    Manish   42    14000\n",
      "15     Kiara   36     7500\n",
      "16     Sagar   33     8900\n",
      "17      Rani   26     4100\n",
      "18      Ajay   55    32000\n",
      "19     Seema   48    21000\n",
      "20      Atul   41    13500\n",
      "21    Nikita   34     8100\n",
      "22     Kapil   29    10200\n",
      "23     Nisha   23     6000\n",
      "24    Deepak   37    15800\n",
      "25      Sita   30     9400\n",
      "26     Arjun   44    17000\n",
      "27    Sunita   39    11000\n",
      "28      Yash   26     8500\n",
      "29  Priyanka   21     4900\n"
     ]
    }
   ],
   "source": [
    "import pandas as pd\n",
    "\n",
    "# Read the CSV data into a DataFrame\n",
    "data = pd.read_csv(\"Basic_data.csv\")\n",
    "\n",
    "# Filter columns by name and display\n",
    "filtered_columns = data[[\"Name\", \"Age\", \"Balance\"]]\n",
    "print(\"Filtered Columns (Name, Age, Balance):\")\n",
    "print(filtered_columns)\n"
   ]
  },
  {
   "cell_type": "markdown",
   "id": "60c7da68",
   "metadata": {},
   "source": [
    "## Row Retrieval\n",
    "Here, we filter the DataFrame to include only rows where the value in the \"AccStatus\" column is \"Active\". This retrieves all records marked as active accounts."
   ]
  },
  {
   "cell_type": "code",
   "execution_count": 3,
   "id": "995a5e17",
   "metadata": {},
   "outputs": [
    {
     "name": "stdout",
     "output_type": "stream",
     "text": [
      "\n",
      "Active Accounts:\n",
      "     AccID      Name Gender  Age    AccOpen  Balance AccStatus\n",
      "0   ACC001       Raj      M   30  01-JAN-20     5000    Active\n",
      "2   ACC003      Amit      M   35  02-FEB-20    12000    Active\n",
      "3   ACC004     Priya      F   28  02-FEB-21     4500    Active\n",
      "4   ACC005    Vikram      M   40  03-MAR-20     7800    Active\n",
      "6   ACC007     Rahul      M   25  04-APR-20    10500    Active\n",
      "7   ACC008     Pooja      F   22  04-APR-21     3800    Active\n",
      "8   ACC009     Sunil      M   50  05-MAY-20    25000    Active\n",
      "9   ACC010    Anjali      F   45  05-MAY-21    18000    Active\n",
      "10  ACC011     Vivek      M   38  06-JUN-20    11200    Active\n",
      "11  ACC012      Neha      F   31  06-JUN-21     6700    Active\n",
      "12  ACC013     Rohit      M   27  07-JUL-20     9800    Active\n",
      "13  ACC014     Aisha      F   24  07-JUL-21     5200    Active\n",
      "14  ACC015    Manish      M   42  08-AUG-20    14000    Active\n",
      "15  ACC016     Kiara      F   36  08-AUG-21     7500    Active\n",
      "16  ACC017     Sagar      M   33  09-SEP-20     8900    Active\n",
      "17  ACC018      Rani      F   26  09-SEP-21     4100    Active\n",
      "18  ACC019      Ajay      M   55  10-OCT-20    32000    Active\n",
      "19  ACC020     Seema      F   48  10-OCT-21    21000    Active\n",
      "20  ACC021      Atul      M   41  11-NOV-20    13500    Active\n",
      "21  ACC022    Nikita      F   34  11-NOV-21     8100    Active\n",
      "22  ACC023     Kapil      M   29  12-DEC-20    10200    Active\n",
      "23  ACC024     Nisha      F   23  12-DEC-21     6000    Active\n",
      "24  ACC025    Deepak      M   37  01-JAN-22    15800    Active\n",
      "25  ACC026      Sita      F   30  01-JAN-23     9400    Active\n",
      "26  ACC027     Arjun      M   44  02-FEB-22    17000    Active\n",
      "27  ACC028    Sunita      F   39  02-FEB-23    11000    Active\n",
      "28  ACC029      Yash      M   26  03-MAR-22     8500    Active\n",
      "29  ACC030  Priyanka      F   21  03-MAR-23     4900    Active\n"
     ]
    }
   ],
   "source": [
    "# Filter rows based on a condition (Active accounts)\n",
    "active_accounts = data[data[\"AccStatus\"] == \"Active\"]\n",
    "print(\"\\nActive Accounts:\")\n",
    "print(active_accounts)\n"
   ]
  },
  {
   "cell_type": "markdown",
   "id": "5762a15d",
   "metadata": {},
   "source": [
    "## Data Sampling\n",
    "This code retrieves and displays the first 5 rows of the DataFrame using the head() method. You can uncomment the commented section to get the last 3 rows using tail()."
   ]
  },
  {
   "cell_type": "code",
   "execution_count": 4,
   "id": "cfa1232b",
   "metadata": {},
   "outputs": [
    {
     "name": "stdout",
     "output_type": "stream",
     "text": [
      "\n",
      "First 5 Rows:\n",
      "    AccID    Name Gender  Age    AccOpen  Balance AccStatus\n",
      "0  ACC001     Raj      M   30  01-JAN-20     5000    Active\n",
      "1  ACC002    Riya      F   29  01-JAN-21     8000  Inactive\n",
      "2  ACC003    Amit      M   35  02-FEB-20    12000    Active\n",
      "3  ACC004   Priya      F   28  02-FEB-21     4500    Active\n",
      "4  ACC005  Vikram      M   40  03-MAR-20     7800    Active\n"
     ]
    }
   ],
   "source": [
    "# Get the first 5 rows (Head)\n",
    "first_five = data.head()\n",
    "print(\"\\nFirst 5 Rows:\")\n",
    "print(first_five)\n",
    "\n",
    "# Get the last 3 rows (Tail) - Optional\n",
    "# last_three = data.tail(3)\n",
    "# print(\"\\nLast 3 Rows:\")\n",
    "# print(last_three)\n"
   ]
  },
  {
   "cell_type": "markdown",
   "id": "2c995fb1",
   "metadata": {},
   "source": [
    "## Data Display \n",
    "This code displays the entire DataFrame using the to_string() method."
   ]
  },
  {
   "cell_type": "code",
   "execution_count": 5,
   "id": "a87e4b5d",
   "metadata": {},
   "outputs": [
    {
     "name": "stdout",
     "output_type": "stream",
     "text": [
      "\n",
      "Full DataFrame:\n",
      "     AccID      Name Gender  Age    AccOpen  Balance AccStatus\n",
      "0   ACC001       Raj      M   30  01-JAN-20     5000    Active\n",
      "1   ACC002      Riya      F   29  01-JAN-21     8000  Inactive\n",
      "2   ACC003      Amit      M   35  02-FEB-20    12000    Active\n",
      "3   ACC004     Priya      F   28  02-FEB-21     4500    Active\n",
      "4   ACC005    Vikram      M   40  03-MAR-20     7800    Active\n",
      "5   ACC006     Sonia      F   32  03-MAR-21     9200  Inactive\n",
      "6   ACC007     Rahul      M   25  04-APR-20    10500    Active\n",
      "7   ACC008     Pooja      F   22  04-APR-21     3800    Active\n",
      "8   ACC009     Sunil      M   50  05-MAY-20    25000    Active\n",
      "9   ACC010    Anjali      F   45  05-MAY-21    18000    Active\n",
      "10  ACC011     Vivek      M   38  06-JUN-20    11200    Active\n",
      "11  ACC012      Neha      F   31  06-JUN-21     6700    Active\n",
      "12  ACC013     Rohit      M   27  07-JUL-20     9800    Active\n",
      "13  ACC014     Aisha      F   24  07-JUL-21     5200    Active\n",
      "14  ACC015    Manish      M   42  08-AUG-20    14000    Active\n",
      "15  ACC016     Kiara      F   36  08-AUG-21     7500    Active\n",
      "16  ACC017     Sagar      M   33  09-SEP-20     8900    Active\n",
      "17  ACC018      Rani      F   26  09-SEP-21     4100    Active\n",
      "18  ACC019      Ajay      M   55  10-OCT-20    32000    Active\n",
      "19  ACC020     Seema      F   48  10-OCT-21    21000    Active\n",
      "20  ACC021      Atul      M   41  11-NOV-20    13500    Active\n",
      "21  ACC022    Nikita      F   34  11-NOV-21     8100    Active\n",
      "22  ACC023     Kapil      M   29  12-DEC-20    10200    Active\n",
      "23  ACC024     Nisha      F   23  12-DEC-21     6000    Active\n",
      "24  ACC025    Deepak      M   37  01-JAN-22    15800    Active\n",
      "25  ACC026      Sita      F   30  01-JAN-23     9400    Active\n",
      "26  ACC027     Arjun      M   44  02-FEB-22    17000    Active\n",
      "27  ACC028    Sunita      F   39  02-FEB-23    11000    Active\n",
      "28  ACC029      Yash      M   26  03-MAR-22     8500    Active\n",
      "29  ACC030  Priyanka      F   21  03-MAR-23     4900    Active\n"
     ]
    }
   ],
   "source": [
    "# Display the entire DataFrame\n",
    "print(\"\\nFull DataFrame:\")\n",
    "print(data.to_string())\n"
   ]
  },
  {
   "cell_type": "code",
   "execution_count": null,
   "id": "6ca31b49",
   "metadata": {},
   "outputs": [],
   "source": []
  }
 ],
 "metadata": {
  "kernelspec": {
   "display_name": "Python 3",
   "language": "python",
   "name": "python3"
  },
  "language_info": {
   "codemirror_mode": {
    "name": "ipython",
    "version": 3
   },
   "file_extension": ".py",
   "mimetype": "text/x-python",
   "name": "python",
   "nbconvert_exporter": "python",
   "pygments_lexer": "ipython3",
   "version": "3.8.8"
  }
 },
 "nbformat": 4,
 "nbformat_minor": 5
}
