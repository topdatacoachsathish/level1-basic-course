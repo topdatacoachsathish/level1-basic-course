{
 "cells": [
  {
   "cell_type": "markdown",
   "id": "2f326428",
   "metadata": {},
   "source": [
    "## 1. Import libraries and Load Data:\n",
    "\n"
   ]
  },
  {
   "cell_type": "code",
   "execution_count": 1,
   "id": "0daaf8f5",
   "metadata": {},
   "outputs": [
    {
     "name": "stdout",
     "output_type": "stream",
     "text": [
      "     AccID      Name Gender  Age    AccOpen  Balance AccStatus\n",
      "0   ACC001       Raj      M   30  01-JAN-20     5000    Active\n",
      "1   ACC002      Riya      F   29  01-JAN-21     8000  Inactive\n",
      "2   ACC003      Amit      M   35  02-FEB-20    12000    Active\n",
      "3   ACC004     Priya      F   28  02-FEB-21     4500    Active\n",
      "4   ACC005    Vikram      M   40  03-MAR-20     7800    Active\n",
      "5   ACC006     Sonia      F   32  03-MAR-21     9200  Inactive\n",
      "6   ACC007     Rahul      M   25  04-APR-20    10500    Active\n",
      "7   ACC008     Pooja      F   22  04-APR-21     3800    Active\n",
      "8   ACC009     Sunil      M   50  05-MAY-20    25000    Active\n",
      "9   ACC010    Anjali      F   45  05-MAY-21    18000    Active\n",
      "10  ACC011     Vivek      M   38  06-JUN-20    11200    Active\n",
      "11  ACC012      Neha      F   31  06-JUN-21     6700    Active\n",
      "12  ACC013     Rohit      M   27  07-JUL-20     9800    Active\n",
      "13  ACC014     Aisha      F   24  07-JUL-21     5200    Active\n",
      "14  ACC015    Manish      M   42  08-AUG-20    14000    Active\n",
      "15  ACC016     Kiara      F   36  08-AUG-21     7500    Active\n",
      "16  ACC017     Sagar      M   33  09-SEP-20     8900    Active\n",
      "17  ACC018      Rani      F   26  09-SEP-21     4100    Active\n",
      "18  ACC019      Ajay      M   55  10-OCT-20    32000    Active\n",
      "19  ACC020     Seema      F   48  10-OCT-21    21000    Active\n",
      "20  ACC021      Atul      M   41  11-NOV-20    13500    Active\n",
      "21  ACC022    Nikita      F   34  11-NOV-21     8100    Active\n",
      "22  ACC023     Kapil      M   29  12-DEC-20    10200    Active\n",
      "23  ACC024     Nisha      F   23  12-DEC-21     6000    Active\n",
      "24  ACC025    Deepak      M   37  01-JAN-22    15800    Active\n",
      "25  ACC026      Sita      F   30  01-JAN-23     9400    Active\n",
      "26  ACC027     Arjun      M   44  02-FEB-22    17000  DeActive\n",
      "27  ACC028    Sunita      F    3  32-FEB-23    11000    Active\n",
      "28  ACC029      Yash      M   99  03-MAR-22     8500    Active\n",
      "29  ACC030  Priyanka    NaN   21  03-MAR-23     4900    Active\n"
     ]
    }
   ],
   "source": [
    "import pandas as pd\n",
    "\n",
    "# Replace 'your_data.csv' with your actual file path\n",
    "data = pd.read_csv(\"Basic_data.csv\")\n",
    "\n",
    "\n",
    "print(data)"
   ]
  },
  {
   "cell_type": "markdown",
   "id": "b4cab484",
   "metadata": {},
   "source": [
    "## 2. Sum of a Numeric Column\n"
   ]
  },
  {
   "cell_type": "code",
   "execution_count": 2,
   "id": "2a83f0d1",
   "metadata": {},
   "outputs": [
    {
     "name": "stdout",
     "output_type": "stream",
     "text": [
      "Total Balance: 328600\n"
     ]
    }
   ],
   "source": [
    "# Calculate the total balance of all accounts\n",
    "total_balance = data[\"Balance\"].sum()\n",
    "print(\"Total Balance:\", total_balance)\n"
   ]
  },
  {
   "cell_type": "markdown",
   "id": "b6d3eb3b",
   "metadata": {},
   "source": [
    "## 3. Average of a Numeric Column\n",
    "\n"
   ]
  },
  {
   "cell_type": "code",
   "execution_count": 3,
   "id": "9556887a",
   "metadata": {},
   "outputs": [
    {
     "name": "stdout",
     "output_type": "stream",
     "text": [
      "Average Age: 35.233333333333334\n"
     ]
    }
   ],
   "source": [
    "# Find the average age of account holders\n",
    "average_age = data[\"Age\"].mean()\n",
    "print(\"Average Age:\", average_age)\n",
    "\n"
   ]
  },
  {
   "cell_type": "markdown",
   "id": "77de218f",
   "metadata": {},
   "source": [
    "## 4. Minimum and Maximum Values\n",
    "\n"
   ]
  },
  {
   "cell_type": "code",
   "execution_count": 4,
   "id": "a0ffdf49",
   "metadata": {},
   "outputs": [
    {
     "name": "stdout",
     "output_type": "stream",
     "text": [
      "Minimum and Maximum Balance: (3800, 32000)\n"
     ]
    }
   ],
   "source": [
    "# Get the minimum and maximum balance values\n",
    "balance_extremes = (data[\"Balance\"].min(), data[\"Balance\"].max())\n",
    "print(\"Minimum and Maximum Balance:\", balance_extremes)\n"
   ]
  },
  {
   "cell_type": "markdown",
   "id": "cc8585c3",
   "metadata": {},
   "source": [
    "## 5. Grouping and Aggregation:\n"
   ]
  },
  {
   "cell_type": "code",
   "execution_count": 5,
   "id": "5c03c9cb",
   "metadata": {},
   "outputs": [
    {
     "name": "stdout",
     "output_type": "stream",
     "text": [
      "Average Balance by Gender: Gender\n",
      "F     8750.000000\n",
      "M    13413.333333\n",
      "Name: Balance, dtype: float64\n"
     ]
    }
   ],
   "source": [
    "# Calculate average balance by gender (assuming 'Gender' is M/F)\n",
    "avg_balance_by_gender = data.groupby(\"Gender\")[\"Balance\"].mean()\n",
    "print(\"Average Balance by Gender:\", avg_balance_by_gender)\n"
   ]
  }
 ],
 "metadata": {
  "kernelspec": {
   "display_name": "Python 3",
   "language": "python",
   "name": "python3"
  },
  "language_info": {
   "codemirror_mode": {
    "name": "ipython",
    "version": 3
   },
   "file_extension": ".py",
   "mimetype": "text/x-python",
   "name": "python",
   "nbconvert_exporter": "python",
   "pygments_lexer": "ipython3",
   "version": "3.8.8"
  }
 },
 "nbformat": 4,
 "nbformat_minor": 5
}
