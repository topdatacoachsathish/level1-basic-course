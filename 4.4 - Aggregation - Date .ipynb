{
 "cells": [
  {
   "cell_type": "markdown",
   "id": "2f326428",
   "metadata": {},
   "source": [
    "## 1. Import libraries and Load Data:\n",
    "\n",
    "We convert the 'AccOpen' column from strings to datetime format using pd.to_datetime() for date-based operations.\n"
   ]
  },
  {
   "cell_type": "code",
   "execution_count": 2,
   "id": "0daaf8f5",
   "metadata": {},
   "outputs": [
    {
     "name": "stdout",
     "output_type": "stream",
     "text": [
      "     AccID      Name Gender  Age    AccOpen  Balance AccStatus\n",
      "0   ACC001       Raj      M   30 2020-01-01     5000    Active\n",
      "1   ACC002      Riya      F   29 2021-01-01     8000  Inactive\n",
      "2   ACC003      Amit      M   35 2020-02-02    12000    Active\n",
      "3   ACC004     Priya      F   28 2021-02-02     4500    Active\n",
      "4   ACC005    Vikram      M   40 2020-03-03     7800    Active\n",
      "5   ACC006     Sonia      F   32 2021-03-03     9200  Inactive\n",
      "6   ACC007     Rahul      M   25 2020-04-04    10500    Active\n",
      "7   ACC008     Pooja      F   22 2021-04-04     3800    Active\n",
      "8   ACC009     Sunil      M   50 2020-05-05    25000    Active\n",
      "9   ACC010    Anjali      F   45 2021-05-05    18000    Active\n",
      "10  ACC011     Vivek      M   38 2020-06-06    11200    Active\n",
      "11  ACC012      Neha      F   31 2021-06-06     6700    Active\n",
      "12  ACC013     Rohit      M   27 2020-07-07     9800    Active\n",
      "13  ACC014     Aisha      F   24 2021-07-07     5200    Active\n",
      "14  ACC015    Manish      M   42 2020-08-08    14000    Active\n",
      "15  ACC016     Kiara      F   36 2021-08-08     7500    Active\n",
      "16  ACC017     Sagar      M   33 2020-09-09     8900    Active\n",
      "17  ACC018      Rani      F   26 2021-09-09     4100    Active\n",
      "18  ACC019      Ajay      M   55 2020-10-10    32000    Active\n",
      "19  ACC020     Seema      F   48 2021-10-10    21000    Active\n",
      "20  ACC021      Atul      M   41 2020-11-11    13500    Active\n",
      "21  ACC022    Nikita      F   34 2021-11-11     8100    Active\n",
      "22  ACC023     Kapil      M   29 2020-12-12    10200    Active\n",
      "23  ACC024     Nisha      F   23 2021-12-12     6000    Active\n",
      "24  ACC025    Deepak      M   37 2022-01-01    15800    Active\n",
      "25  ACC026      Sita      F   30 2023-01-01     9400    Active\n",
      "26  ACC027     Arjun      M   44 2022-02-02    17000  DeActive\n",
      "27  ACC028    Sunita      F    3 2032-02-23    11000    Active\n",
      "28  ACC029      Yash      M   99 2022-03-03     8500    Active\n",
      "29  ACC030  Priyanka    NaN   21 2023-03-03     4900    Active\n"
     ]
    }
   ],
   "source": [
    "import pandas as pd\n",
    "\n",
    "# Replace 'your_data.csv' with your actual file path\n",
    "data = pd.read_csv(\"Basic_data.csv\")\n",
    "\n",
    "# Assuming 'AccOpen' is a string in 'DD-MON-YYYY' format\n",
    "data[\"AccOpen\"] = pd.to_datetime(data[\"AccOpen\"])\n",
    "\n",
    "\n",
    "print(data)"
   ]
  },
  {
   "cell_type": "markdown",
   "id": "b4cab484",
   "metadata": {},
   "source": [
    "## 2. Finding Minimum and Maximum Dates\n",
    "\n"
   ]
  },
  {
   "cell_type": "code",
   "execution_count": 4,
   "id": "2a83f0d1",
   "metadata": {},
   "outputs": [
    {
     "name": "stdout",
     "output_type": "stream",
     "text": [
      "Minimum and Maximum Account Open Dates: (Timestamp('2020-01-01 00:00:00'), Timestamp('2032-02-23 00:00:00'))\n"
     ]
    }
   ],
   "source": [
    "# Get the earliest and latest account opening dates\n",
    "date_extremes = (data[\"AccOpen\"].min(), data[\"AccOpen\"].max())\n",
    "print(\"Minimum and Maximum Account Open Dates:\", date_extremes)\n",
    "\n"
   ]
  },
  {
   "cell_type": "markdown",
   "id": "b6d3eb3b",
   "metadata": {},
   "source": [
    "## 3. Calculating Age of Accounts\n",
    "\n",
    "\n"
   ]
  },
  {
   "cell_type": "code",
   "execution_count": 5,
   "id": "9556887a",
   "metadata": {},
   "outputs": [
    {
     "name": "stdout",
     "output_type": "stream",
     "text": [
      "     AccOpen  Age_in_Days\n",
      "0 2020-01-01         1536\n",
      "1 2021-01-01         1170\n",
      "2 2020-02-02         1504\n",
      "3 2021-02-02         1138\n",
      "4 2020-03-03         1474\n"
     ]
    }
   ],
   "source": [
    "# Calculate account age in days (assuming today's date)\n",
    "today = pd.to_datetime(\"2024-03-16\")\n",
    "data[\"Age_in_Days\"] = (today - data[\"AccOpen\"]).dt.days\n",
    "print(data[[\"AccOpen\", \"Age_in_Days\"]].head())\n",
    "\n",
    "\n"
   ]
  },
  {
   "cell_type": "markdown",
   "id": "77de218f",
   "metadata": {},
   "source": [
    "## 4. Extracting Month/Year\n"
   ]
  },
  {
   "cell_type": "code",
   "execution_count": 6,
   "id": "a0ffdf49",
   "metadata": {},
   "outputs": [
    {
     "name": "stdout",
     "output_type": "stream",
     "text": [
      "     AccOpen     Month  Year\n",
      "0 2020-01-01   January  2020\n",
      "1 2021-01-01   January  2021\n",
      "2 2020-02-02  February  2020\n",
      "3 2021-02-02  February  2021\n",
      "4 2020-03-03     March  2020\n"
     ]
    }
   ],
   "source": [
    "# Extract the month and year of account opening\n",
    "data[\"Month\"] = data[\"AccOpen\"].dt.month_name()\n",
    "data[\"Year\"] = data[\"AccOpen\"].dt.year\n",
    "print(data[[\"AccOpen\", \"Month\", \"Year\"]].head())\n",
    "\n"
   ]
  },
  {
   "cell_type": "markdown",
   "id": "cc8585c3",
   "metadata": {},
   "source": [
    "## 5. Grouping and Aggregation by Date\n",
    "\n",
    "We group data by the month extracted from the \"AccOpen\" date and then calculate the average balance for each month."
   ]
  },
  {
   "cell_type": "code",
   "execution_count": 7,
   "id": "5c03c9cb",
   "metadata": {},
   "outputs": [
    {
     "name": "stdout",
     "output_type": "stream",
     "text": [
      "Monthly Average Balance: AccOpen\n",
      "1      9550\n",
      "2     11125\n",
      "3      7600\n",
      "4      7150\n",
      "5     21500\n",
      "6      8950\n",
      "7      7500\n",
      "8     10750\n",
      "9      6500\n",
      "10    26500\n",
      "11    10800\n",
      "12     8100\n",
      "Name: Balance, dtype: int64\n"
     ]
    }
   ],
   "source": [
    "# Calculate monthly average balance\n",
    "monthly_avg_balance = data.groupby(data[\"AccOpen\"].dt.month)[\"Balance\"].mean()\n",
    "print(\"Monthly Average Balance:\", monthly_avg_balance)\n",
    "\n"
   ]
  },
  {
   "cell_type": "markdown",
   "id": "a4550f7a",
   "metadata": {},
   "source": [
    "### Considerations\n",
    "\n",
    "Explore functionalities like resample() for time-based resampling and dt.weekday for extracting weekdays.\n",
    "\n",
    "Handle missing or invalid dates appropriately before performing aggregations.\n",
    "\n",
    "\n",
    "By mastering these techniques, you can effectively analyze trends and patterns within your date-time data."
   ]
  }
 ],
 "metadata": {
  "kernelspec": {
   "display_name": "Python 3",
   "language": "python",
   "name": "python3"
  },
  "language_info": {
   "codemirror_mode": {
    "name": "ipython",
    "version": 3
   },
   "file_extension": ".py",
   "mimetype": "text/x-python",
   "name": "python",
   "nbconvert_exporter": "python",
   "pygments_lexer": "ipython3",
   "version": "3.8.8"
  }
 },
 "nbformat": 4,
 "nbformat_minor": 5
}
