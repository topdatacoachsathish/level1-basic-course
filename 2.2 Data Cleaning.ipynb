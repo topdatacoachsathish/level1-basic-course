{
 "cells": [
  {
   "cell_type": "markdown",
   "id": "917c3b47",
   "metadata": {},
   "source": [
    "# Data Cleaning\n",
    "\n",
    "Cleaning, Standardizing, Formatting, and Preparing Data for Reporting with Pandas (Using Basic_data.csv)"
   ]
  },
  {
   "cell_type": "markdown",
   "id": "f45d4d45",
   "metadata": {},
   "source": [
    "## 1. Importing Libraries and Reading Data:"
   ]
  },
  {
   "cell_type": "code",
   "execution_count": 1,
   "id": "033a6f38",
   "metadata": {},
   "outputs": [],
   "source": [
    "import pandas as pd\n",
    "\n",
    "# Read the CSV data into a DataFrame\n",
    "data = pd.read_csv(\"Basic_data.csv\")\n"
   ]
  },
  {
   "cell_type": "markdown",
   "id": "0a62fda6",
   "metadata": {},
   "source": [
    "## 2. Data Cleaning\n",
    "\n",
    "Handling Missing Values\n",
    "\n",
    "Check for missing values using isnull().sum(). You can choose to drop rows with missing data (dropna()) or fill them with a suitable value (e.g., mean for numerical columns)."
   ]
  },
  {
   "cell_type": "code",
   "execution_count": 2,
   "id": "38ff2ab9",
   "metadata": {},
   "outputs": [
    {
     "name": "stdout",
     "output_type": "stream",
     "text": [
      "AccID        0\n",
      "Name         0\n",
      "Gender       0\n",
      "Age          0\n",
      "AccOpen      0\n",
      "Balance      0\n",
      "AccStatus    0\n",
      "dtype: int64\n"
     ]
    }
   ],
   "source": [
    "# Check for missing values\n",
    "print(data.isnull().sum())\n",
    "\n",
    "# Option 1: Drop rows with missing values (if acceptable)\n",
    "# data.dropna(inplace=True)\n",
    "\n",
    "# Option 2: Fill missing values with a specific value (e.g., mean for numerical columns)\n",
    "data[\"Balance\"].fillna(data[\"Balance\"].mean(), inplace=True)\n"
   ]
  },
  {
   "cell_type": "markdown",
   "id": "c76ed5a2",
   "metadata": {},
   "source": [
    "##  Fixing Data Types\n",
    "Convert columns with dates (AccOpen in this case) to datetime format using pd.to_datetime()."
   ]
  },
  {
   "cell_type": "code",
   "execution_count": 3,
   "id": "549418a9",
   "metadata": {},
   "outputs": [],
   "source": [
    "# Convert 'AccOpen' to datetime format\n",
    "data[\"AccOpen\"] = pd.to_datetime(data[\"AccOpen\"])\n"
   ]
  },
  {
   "cell_type": "markdown",
   "id": "074b3722",
   "metadata": {},
   "source": [
    "## Removing Duplicates\n",
    "Use drop_duplicates() to remove duplicate rows if present."
   ]
  },
  {
   "cell_type": "code",
   "execution_count": 10,
   "id": "52d7a312",
   "metadata": {},
   "outputs": [],
   "source": [
    "# Remove duplicate rows (based on all columns)\n",
    "data.drop_duplicates(inplace=True)\n"
   ]
  },
  {
   "cell_type": "markdown",
   "id": "0b328cc0",
   "metadata": {},
   "source": [
    "## 3. Data Standardization\n",
    "\n",
    "### Lowercase or Uppercase Text Columns:\n",
    "\n",
    "Standardize text columns (e.g., converting names to lowercase) using string methods like str.lower().\n",
    "\n",
    "Ensure consistent date formatting using datetime methods like dt.strftime()."
   ]
  },
  {
   "cell_type": "code",
   "execution_count": 5,
   "id": "a895b73e",
   "metadata": {},
   "outputs": [],
   "source": [
    "# Make 'Name' column lowercase\n",
    "data[\"Name\"] = data[\"Name\"].str.lower()\n"
   ]
  },
  {
   "cell_type": "code",
   "execution_count": 6,
   "id": "8201fe51",
   "metadata": {},
   "outputs": [],
   "source": [
    "# Format 'AccOpen' column (e.g., YYYY-MM-DD)\n",
    "data[\"AccOpen\"] = data[\"AccOpen\"].dt.strftime(\"%Y-%m-%d\")\n"
   ]
  },
  {
   "cell_type": "markdown",
   "id": "6057ac64",
   "metadata": {},
   "source": [
    "## 4. Data Formatting\n",
    "\n",
    "### Currency Formatting for Balance\n",
    "\n",
    "Apply a function (using apply()) to format numerical columns like Balance with currency symbol and desired number of decimal places."
   ]
  },
  {
   "cell_type": "code",
   "execution_count": 7,
   "id": "107c0c72",
   "metadata": {},
   "outputs": [],
   "source": [
    "# Add currency symbol and format decimals for 'Balance'\n",
    "data[\"Balance\"] = data[\"Balance\"].apply(lambda x: f\"${x:.2f}\")\n"
   ]
  },
  {
   "cell_type": "markdown",
   "id": "7859ad23",
   "metadata": {},
   "source": [
    "Rename columns for better readability using rename() with a dictionary mapping old names to new."
   ]
  },
  {
   "cell_type": "code",
   "execution_count": 8,
   "id": "46fc3a46",
   "metadata": {},
   "outputs": [],
   "source": [
    "# Rename columns for clarity\n",
    "data = data.rename(columns={\"AccStatus\": \"Account Status\"})\n"
   ]
  },
  {
   "cell_type": "markdown",
   "id": "c85b41c9",
   "metadata": {},
   "source": [
    "## 5. Report Prework\n",
    "\n",
    "### Selecting Specific Columns\n",
    "\n",
    "Select only the columns needed for your report using indexing or boolean selection"
   ]
  },
  {
   "cell_type": "code",
   "execution_count": 9,
   "id": "b1c4bf78",
   "metadata": {},
   "outputs": [],
   "source": [
    "# Choose relevant columns for reporting\n",
    "report_data = data[[\"Name\", \"Age\", \"Account Status\", \"Balance\"]]\n"
   ]
  },
  {
   "cell_type": "markdown",
   "id": "4aa33c78",
   "metadata": {},
   "source": [
    "After cleaning and preparing the data, you can use it to create tabular, chart, timeline, or scatter plot reports as demonstrated in the previous response"
   ]
  }
 ],
 "metadata": {
  "kernelspec": {
   "display_name": "Python 3",
   "language": "python",
   "name": "python3"
  },
  "language_info": {
   "codemirror_mode": {
    "name": "ipython",
    "version": 3
   },
   "file_extension": ".py",
   "mimetype": "text/x-python",
   "name": "python",
   "nbconvert_exporter": "python",
   "pygments_lexer": "ipython3",
   "version": "3.8.8"
  }
 },
 "nbformat": 4,
 "nbformat_minor": 5
}
