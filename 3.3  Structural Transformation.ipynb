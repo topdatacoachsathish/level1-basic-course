{
 "cells": [
  {
   "cell_type": "markdown",
   "id": "2cfebe6f",
   "metadata": {},
   "source": [
    "## Basic Data Set Preparation Activities in Python using a CSV File"
   ]
  },
  {
   "cell_type": "markdown",
   "id": "e87eeec3",
   "metadata": {},
   "source": [
    "### 1. Import libraries and Load Data"
   ]
  },
  {
   "cell_type": "code",
   "execution_count": 1,
   "id": "63f105b2",
   "metadata": {},
   "outputs": [
    {
     "name": "stdout",
     "output_type": "stream",
     "text": [
      "     AccID      Name Gender  Age    AccOpen  Balance AccStatus\n",
      "0   ACC001       Raj      M   30  01-JAN-20     5000    Active\n",
      "1   ACC002      Riya      F   29  01-JAN-21     8000  Inactive\n",
      "2   ACC003      Amit      M   35  02-FEB-20    12000    Active\n",
      "3   ACC004     Priya      F   28  02-FEB-21     4500    Active\n",
      "4   ACC005    Vikram      M   40  03-MAR-20     7800    Active\n",
      "5   ACC006     Sonia      F   32  03-MAR-21     9200  Inactive\n",
      "6   ACC007     Rahul      M   25  04-APR-20    10500    Active\n",
      "7   ACC008     Pooja      F   22  04-APR-21     3800    Active\n",
      "8   ACC009     Sunil      M   50  05-MAY-20    25000    Active\n",
      "9   ACC010    Anjali      F   45  05-MAY-21    18000    Active\n",
      "10  ACC011     Vivek      M   38  06-JUN-20    11200    Active\n",
      "11  ACC012      Neha      F   31  06-JUN-21     6700    Active\n",
      "12  ACC013     Rohit      M   27  07-JUL-20     9800    Active\n",
      "13  ACC014     Aisha      F   24  07-JUL-21     5200    Active\n",
      "14  ACC015    Manish      M   42  08-AUG-20    14000    Active\n",
      "15  ACC016     Kiara      F   36  08-AUG-21     7500    Active\n",
      "16  ACC017     Sagar      M   33  09-SEP-20     8900    Active\n",
      "17  ACC018      Rani      F   26  09-SEP-21     4100    Active\n",
      "18  ACC019      Ajay      M   55  10-OCT-20    32000    Active\n",
      "19  ACC020     Seema      F   48  10-OCT-21    21000    Active\n",
      "20  ACC021      Atul      M   41  11-NOV-20    13500    Active\n",
      "21  ACC022    Nikita      F   34  11-NOV-21     8100    Active\n",
      "22  ACC023     Kapil      M   29  12-DEC-20    10200    Active\n",
      "23  ACC024     Nisha      F   23  12-DEC-21     6000    Active\n",
      "24  ACC025    Deepak      M   37  01-JAN-22    15800    Active\n",
      "25  ACC026      Sita      F   30  01-JAN-23     9400    Active\n",
      "26  ACC027     Arjun      M   44  02-FEB-22    17000  DeActive\n",
      "27  ACC028    Sunita      F    3  32-FEB-23    11000    Active\n",
      "28  ACC029      Yash      M   99  03-MAR-22     8500    Active\n",
      "29  ACC030  Priyanka    NaN   21  03-MAR-23     4900    Active\n"
     ]
    }
   ],
   "source": [
    "import pandas as pd\n",
    "\n",
    "# Replace 'data.csv' with your actual file path\n",
    "data = pd.read_csv(\"Basic_data.csv\")\n",
    "\n",
    "print(data)"
   ]
  },
  {
   "cell_type": "markdown",
   "id": "05ff7ce1",
   "metadata": {},
   "source": [
    "### 2. Creating a New Column\n",
    "\n",
    "You can create a new column based on calculations, transformations, or existing data."
   ]
  },
  {
   "cell_type": "code",
   "execution_count": 4,
   "id": "f8a3eb45",
   "metadata": {},
   "outputs": [
    {
     "name": "stdout",
     "output_type": "stream",
     "text": [
      "    AccID    Name Gender  Age    AccOpen  Balance AccStatus  Interest  \\\n",
      "0  ACC001     Raj      M   30  01-JAN-20     5000    Active      50.0   \n",
      "1  ACC002    Riya      F   29  01-JAN-21     8000  Inactive      80.0   \n",
      "2  ACC003    Amit      M   35  02-FEB-20    12000    Active     120.0   \n",
      "3  ACC004   Priya      F   28  02-FEB-21     4500    Active      45.0   \n",
      "4  ACC005  Vikram      M   40  03-MAR-20     7800    Active      78.0   \n",
      "\n",
      "   Active_Acct  \n",
      "0         True  \n",
      "1         True  \n",
      "2         True  \n",
      "3         True  \n",
      "4         True  \n"
     ]
    }
   ],
   "source": [
    "# Example: Calculate a new column 'Discount' (replace formula as needed)\n",
    "data[\"Interest\"] = data[\"Balance\"] * 0.01\n",
    "\n",
    "# Example: Create a new column with a constant value\n",
    "data[\"Active_Acct\"] = True\n",
    "\n",
    "print(data.head())\n"
   ]
  },
  {
   "cell_type": "markdown",
   "id": "2e3fdef8",
   "metadata": {},
   "source": [
    "### 3. Replacing a Column\n",
    "\n",
    "Replace an entire column with a new column or a constant value.\n"
   ]
  },
  {
   "cell_type": "code",
   "execution_count": 7,
   "id": "d132fcfb",
   "metadata": {},
   "outputs": [
    {
     "name": "stdout",
     "output_type": "stream",
     "text": [
      "    AccID Customer_Name Gender  Age    AccOpen  Balance AccStatus  Interest  \\\n",
      "0  ACC001           Raj      M   30  01-JAN-20     5000    Active      50.0   \n",
      "1  ACC002          Riya      F   29  01-JAN-21     8000  Inactive      80.0   \n",
      "2  ACC003          Amit      M   35  02-FEB-20    12000    Active     120.0   \n",
      "3  ACC004         Priya      F   28  02-FEB-21     4500    Active      45.0   \n",
      "4  ACC005        Vikram      M   40  03-MAR-20     7800    Active      78.0   \n",
      "\n",
      "   Active_Acct  \n",
      "0        False  \n",
      "1        False  \n",
      "2        False  \n",
      "3        False  \n",
      "4        False  \n"
     ]
    }
   ],
   "source": [
    "# Example: Replace 'Old_Column' with 'New_Column' (assuming compatible data types)\n",
    "data = data.rename(columns={\"Name\": \"Customer_Name\"})\n",
    "\n",
    "# Example: Replace 'Status' column with 'Inactive' for all rows\n",
    "data[\"Active_Acct\"] = False\n",
    "\n",
    "print(data.head())\n"
   ]
  },
  {
   "cell_type": "markdown",
   "id": "5dcde530",
   "metadata": {},
   "source": [
    "### 4.  Replacing Values in a Column:\n",
    "\n",
    "Replace specific values within a column with new values."
   ]
  },
  {
   "cell_type": "code",
   "execution_count": 9,
   "id": "1477df2d",
   "metadata": {},
   "outputs": [
    {
     "name": "stdout",
     "output_type": "stream",
     "text": [
      "    AccID Customer_Name Gender  Age    AccOpen  Balance AccStatus  Interest  \\\n",
      "0  ACC001           Raj      M   30  01-JAN-20     5000      Live      50.0   \n",
      "1  ACC002          Riya      F   29  01-JAN-21     8000  Inactive      80.0   \n",
      "2  ACC003          Amit      M   35  02-FEB-20    12000      Live     120.0   \n",
      "3  ACC004         Priya      F   28  02-FEB-21     4500      Live      45.0   \n",
      "4  ACC005        Vikram      M   40  03-MAR-20     7800      Live      78.0   \n",
      "\n",
      "   Active_Acct Risk_Level  \n",
      "0        False        Low  \n",
      "1        False        Low  \n",
      "2        False        Low  \n",
      "3        False        Low  \n",
      "4        False        Low  \n"
     ]
    }
   ],
   "source": [
    "# Example: Replace 'Pending' with 'Processing' in 'Order_Status'\n",
    "data[\"AccStatus\"] = data[\"AccStatus\"].replace(\"Active\", \"Live\")\n",
    "\n",
    "# Example: Replace values based on a condition (replace thresholds as needed)\n",
    "data[\"Risk_Level\"] = data[\"Balance\"].apply(lambda x: \"High\" if x < 3000 else \"Low\")\n",
    "\n",
    "print(data.head())"
   ]
  },
  {
   "cell_type": "markdown",
   "id": "44a124ff",
   "metadata": {},
   "source": [
    "## 5. Splitting a Date Column:\n",
    "\n",
    "Extract year, month, and day components from a date column."
   ]
  },
  {
   "cell_type": "code",
   "execution_count": 12,
   "id": "faea6d5a",
   "metadata": {},
   "outputs": [
    {
     "name": "stdout",
     "output_type": "stream",
     "text": [
      "    AccID Customer_Name Gender  Age    AccOpen  Balance AccStatus  Interest  \\\n",
      "0  ACC001           Raj      M   30  01-JAN-20     5000      Live      50.0   \n",
      "1  ACC002          Riya      F   29  01-JAN-21     8000  Inactive      80.0   \n",
      "2  ACC003          Amit      M   35  02-FEB-20    12000      Live     120.0   \n",
      "3  ACC004         Priya      F   28  02-FEB-21     4500      Live      45.0   \n",
      "4  ACC005        Vikram      M   40  03-MAR-20     7800      Live      78.0   \n",
      "\n",
      "   Active_Acct Risk_Level     Joined  Joined_Year  Joined_Month  Joined_Day  \n",
      "0        False        Low 2020-01-01         2020             1           1  \n",
      "1        False        Low 2021-01-01         2021             1           1  \n",
      "2        False        Low 2020-02-02         2020             2           2  \n",
      "3        False        Low 2021-02-02         2021             2           2  \n",
      "4        False        Low 2020-03-03         2020             3           3  \n"
     ]
    }
   ],
   "source": [
    "# Example: Assuming 'Joined' is a datetime column\n",
    "\n",
    "data[\"Joined\"] = pd.to_datetime(data[\"AccOpen\"])\n",
    "\n",
    "data[\"Joined_Year\"] = data[\"Joined\"].dt.year\n",
    "data[\"Joined_Month\"] = data[\"Joined\"].dt.month\n",
    "data[\"Joined_Day\"] = data[\"Joined\"].dt.day\n",
    "\n",
    "# Optional: Drop the original date column if no longer needed\n",
    "# data = data.drop(\"Joined\", axis=1)\n",
    "\n",
    "\n",
    "print(data.head())"
   ]
  },
  {
   "cell_type": "markdown",
   "id": "2af9ce22",
   "metadata": {},
   "source": [
    "# Remember:\n",
    "\n",
    "These are basic examples. Explore pandas methods like apply, map, and conditional statements for more complex data manipulation.\n",
    "\n",
    "Always consider the data types and desired outcomes when performing these operations.\n",
    "\n",
    "By incorporating these techniques, you can effectively prepare your data from the CSV file for further analysis and modeling tasks."
   ]
  }
 ],
 "metadata": {
  "kernelspec": {
   "display_name": "Python 3",
   "language": "python",
   "name": "python3"
  },
  "language_info": {
   "codemirror_mode": {
    "name": "ipython",
    "version": 3
   },
   "file_extension": ".py",
   "mimetype": "text/x-python",
   "name": "python",
   "nbconvert_exporter": "python",
   "pygments_lexer": "ipython3",
   "version": "3.8.8"
  }
 },
 "nbformat": 4,
 "nbformat_minor": 5
}
